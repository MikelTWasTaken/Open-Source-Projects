{
 "cells": [
  {
   "cell_type": "code",
   "execution_count": 4,
   "metadata": {},
   "outputs": [
    {
     "name": "stdout",
     "output_type": "stream",
     "text": [
      "Successfully loaded ks_data\n",
      "Data successfully inserted into the table 'ks_data' in PostgreSQL.\n"
     ]
    }
   ],
   "source": [
    "import numpy as np \n",
    "import pandas as pd\n",
    "from sqlalchemy import create_engine\n",
    "\n",
    "# File path and database configuration\n",
    "csv_file_path = '/Users/teitelbaumsair/Desktop/Open-Source-Projects/Analyzing Kickstarter Projects/ks-projects-201801.csv'\n",
    "db_config = {\n",
    "    \"username\": \"postgres\",\n",
    "    \"password\": \"1234\",\n",
    "    \"host\": \"localhost\",  \n",
    "    \"port\": 5433,        \n",
    "    \"database\": \"Kickstarter_Projects\"\n",
    "}\n",
    "\n",
    "# Create engine\n",
    "engine = create_engine(\n",
    "    f\"postgresql+psycopg2://{db_config['username']}:{db_config['password']}@\"\n",
    "    f\"{db_config['host']}:{db_config['port']}/{db_config['database']}\"\n",
    ")\n",
    "\n",
    "# Table name\n",
    "table_name = 'ks_data'\n",
    "\n",
    "try:\n",
    "    # Read CSV file into DataFrame\n",
    "    df = pd.read_csv(csv_file_path)\n",
    "    # Load DataFrame into PostgreSQL table\n",
    "    df.to_sql(table_name, con=engine, index=False, if_exists='replace')  \n",
    "    print(f\"Successfully loaded {table_name}\")\n",
    "except Exception as e:\n",
    "    print(f\"Error processing {csv_file_path} for table {table_name}: {e}\")\n",
    "\n",
    "print(f\"Data successfully inserted into the table '{table_name}' in PostgreSQL.\")"
   ]
  }
 ],
 "metadata": {
  "kernelspec": {
   "display_name": "Python 3",
   "language": "python",
   "name": "python3"
  },
  "language_info": {
   "codemirror_mode": {
    "name": "ipython",
    "version": 3
   },
   "file_extension": ".py",
   "mimetype": "text/x-python",
   "name": "python",
   "nbconvert_exporter": "python",
   "pygments_lexer": "ipython3",
   "version": "3.12.6"
  }
 },
 "nbformat": 4,
 "nbformat_minor": 2
}
