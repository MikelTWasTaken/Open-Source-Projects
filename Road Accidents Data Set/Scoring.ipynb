{
 "cells": [
  {
   "cell_type": "code",
   "execution_count": 1,
   "metadata": {},
   "outputs": [
    {
     "name": "stdout",
     "output_type": "stream",
     "text": [
      "       Incident Type  Score\n",
      "0  Dangerous Driving  1.000\n",
      "1      Vehicle Crash  0.740\n",
      "2     Verbal Assault  0.620\n",
      "3      Theft/Robbery  0.416\n",
      "4   Physical Assault  0.148\n",
      "5         Harassment  0.109\n"
     ]
    }
   ],
   "source": [
    "import pandas as pd\n",
    "\n",
    "# Example data: distribution of incidents by type in % (rows: regions, cols: incident types)\n",
    "incident_data = {\n",
    "    \"Region\": [\"Region 1\", \"Region 2\", \"Region 3\", \"Region 4\"],\n",
    "    \"Incident Rate\": [16, 5, 3, 4],  # incidents per 100,000 orders\n",
    "    \"Dangerous Driving\": [38, 19, 36, 28],\n",
    "    \"Vehicle Crash\": [21, 29, 26, 31],\n",
    "    \"Verbal Assault\": [20, 24, 16, 21],\n",
    "    \"Theft/Robbery\": [10, 22, 18, 15],\n",
    "    \"Physical Assault\": [6, 4, 3, 3],\n",
    "    \"Harassment\": [5, 2, 1, 2],\n",
    "}\n",
    "\n",
    "df = pd.DataFrame(incident_data)\n",
    "\n",
    "# Calculate weighted score: (incident % * incident rate)\n",
    "incident_types = df.columns[2:]  # only incident types\n",
    "for incident in incident_types:\n",
    "    df[incident + \" Weighted\"] = (df[incident] / 100) * df[\"Incident Rate\"]\n",
    "\n",
    "# Sum across regions for each incident type\n",
    "scores = {}\n",
    "for incident in incident_types:\n",
    "    total_score = df[incident + \" Weighted\"].sum()\n",
    "    scores[incident] = total_score\n",
    "\n",
    "# Normalize the scores so they are between 0-1\n",
    "max_score = max(scores.values())\n",
    "normalized_scores = {k: round(v / max_score, 3) for k, v in scores.items()}\n",
    "\n",
    "# Convert to DataFrame for sorting and visualization\n",
    "score_df = pd.DataFrame(list(normalized_scores.items()), columns=[\"Incident Type\", \"Score\"])\n",
    "score_df = score_df.sort_values(by=\"Score\", ascending=False)\n",
    "\n",
    "print(score_df)"
   ]
  },
  {
   "cell_type": "code",
   "execution_count": 3,
   "metadata": {},
   "outputs": [
    {
     "name": "stdout",
     "output_type": "stream",
     "text": [
      "\n",
      "Region 1 - Top 3 Incident Types:\n",
      " - Dangerous Driving: Score = 6.08, Normalized = 1.0\n",
      " - Vehicle Crash: Score = 3.36, Normalized = 0.55\n",
      " - Verbal Assault: Score = 3.2, Normalized = 0.53\n",
      "\n",
      "Region 2 - Top 3 Incident Types:\n",
      " - Vehicle Crash: Score = 1.45, Normalized = 1.0\n",
      " - Verbal Assault: Score = 1.2, Normalized = 0.83\n",
      " - Theft/Robbery: Score = 1.1, Normalized = 0.76\n",
      "\n",
      "Region 3 - Top 3 Incident Types:\n",
      " - Dangerous Driving: Score = 1.08, Normalized = 1.0\n",
      " - Vehicle Crash: Score = 0.78, Normalized = 0.72\n",
      " - Theft/Robbery: Score = 0.54, Normalized = 0.5\n",
      "\n",
      "Region 4 - Top 3 Incident Types:\n",
      " - Vehicle Crash: Score = 1.24, Normalized = 1.0\n",
      " - Dangerous Driving: Score = 1.12, Normalized = 0.9\n",
      " - Verbal Assault: Score = 0.84, Normalized = 0.68\n"
     ]
    },
    {
     "name": "stderr",
     "output_type": "stream",
     "text": [
      "/var/folders/_7/7nx4t_6s6995xg_cj866wrmr0000gn/T/ipykernel_18903/2394375774.py:44: DeprecationWarning: DataFrameGroupBy.apply operated on the grouping columns. This behavior is deprecated, and in a future version of pandas the grouping columns will be excluded from the operation. Either pass `include_groups=False` to exclude the groupings or explicitly select the grouping columns after groupby to silence this warning.\n",
      "  .apply(lambda group: group.nlargest(3, \"Score\"))\n"
     ]
    }
   ],
   "source": [
    "# Incident types\n",
    "incident_types = [\n",
    "    \"Dangerous Driving\", \"Vehicle Crash\", \"Verbal Assault\",\n",
    "    \"Theft/Robbery\", \"Physical Assault\", \"Harassment\"\n",
    "]\n",
    "\n",
    "# Incident percentages per region\n",
    "incident_distribution = {\n",
    "    \"Region 1\": [38, 21, 20, 10, 6, 5],\n",
    "    \"Region 2\": [19, 29, 24, 22, 4, 2],\n",
    "    \"Region 3\": [36, 26, 16, 18, 3, 1],\n",
    "    \"Region 4\": [28, 31, 21, 15, 3, 2]\n",
    "}\n",
    "\n",
    "# Incidents per 100,000 orders\n",
    "incident_rates = {\n",
    "    \"Region 1\": 16,\n",
    "    \"Region 2\": 5,\n",
    "    \"Region 3\": 3,\n",
    "    \"Region 4\": 4\n",
    "}\n",
    "\n",
    "# Generate full dataset\n",
    "data = []\n",
    "for region, percentages in incident_distribution.items():\n",
    "    rate = incident_rates[region]\n",
    "    for i, pct in enumerate(percentages):\n",
    "        score = (pct / 100) * rate\n",
    "        data.append({\n",
    "            \"Region\": region,\n",
    "            \"Incident Type\": incident_types[i],\n",
    "            \"Score\": round(score, 2)\n",
    "        })\n",
    "\n",
    "# Create DataFrame\n",
    "df2 = pd.DataFrame(data)\n",
    "\n",
    "# Normalize scores within each region\n",
    "df2[\"Normalized Score\"] = df2.groupby(\"Region\")[\"Score\"].transform(lambda x: x / x.max())\n",
    "\n",
    "# Get top 3 incidents per region\n",
    "top_incidents = (\n",
    "    df2.groupby(\"Region\")\n",
    "    .apply(lambda group: group.nlargest(3, \"Score\"))\n",
    "    .reset_index(drop=True)\n",
    ")\n",
    "\n",
    "# Display results\n",
    "for region in top_incidents[\"Region\"].unique():\n",
    "    print(f\"\\n{region} - Top 3 Incident Types:\")\n",
    "    subset = top_incidents[top_incidents[\"Region\"] == region]\n",
    "    for _, row in subset.iterrows():\n",
    "        print(f\" - {row['Incident Type']}: Score = {row['Score']}, Normalized = {round(row['Normalized Score'], 2)}\")"
   ]
  },
  {
   "cell_type": "code",
   "execution_count": null,
   "metadata": {},
   "outputs": [],
   "source": []
  }
 ],
 "metadata": {
  "kernelspec": {
   "display_name": "Python 3",
   "language": "python",
   "name": "python3"
  },
  "language_info": {
   "codemirror_mode": {
    "name": "ipython",
    "version": 3
   },
   "file_extension": ".py",
   "mimetype": "text/x-python",
   "name": "python",
   "nbconvert_exporter": "python",
   "pygments_lexer": "ipython3",
   "version": "3.12.6"
  }
 },
 "nbformat": 4,
 "nbformat_minor": 2
}
