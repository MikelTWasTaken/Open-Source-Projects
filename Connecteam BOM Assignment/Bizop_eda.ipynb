{
 "cells": [
  {
   "cell_type": "markdown",
   "metadata": {},
   "source": [
    "# Exploratory Data Analysis (EDA) for Sales Funnel Data  \n",
    "\n",
    "## 📌 Overview  \n",
    "This EDA aims to analyze the **Top-of-Funnel to Deal** conversion process, uncover key patterns, and identify areas for optimization. The dataset includes lead details, funnel stages, and revenue impact.  \n",
    "\n",
    "## 🔍 Analysis Approach  \n",
    "### 1️⃣ Data Cleaning & Preprocessing  \n",
    "- Handle **missing values**, **duplicates**, and **data type inconsistencies**  \n",
    "- Identify **outliers** in ARR, employee count, and conversion times  \n",
    "\n",
    "### 2️⃣ Key Insights & Trends  \n",
    "#### 📈 Lead Volume & Growth Trends  \n",
    "- Analyze **lead acquisition trends** over time (Inbound vs. Outbound)  \n",
    "- **Charts:** Time Series, Lead Source Breakdown  \n",
    "\n",
    "#### 🔄 Funnel Performance & Conversion Rates  \n",
    "- Track **Signup → MQL → Demo → Paid** conversion rates  \n",
    "- Identify **bottlenecks** and **average time per stage**  \n",
    "- **Charts:** Funnel Chart, Box Plot (Conversion Time), Cohort Analysis  \n",
    "\n",
    "#### 🏢 Industry & Company Size Breakdown  \n",
    "- Identify **top-performing industries** and their conversion rates  \n",
    "- Measure impact of **company size on conversions**  \n",
    "- **Charts:** Industry vs. Conversion Rate, Employee Count Breakdown  \n",
    "\n",
    "#### 💰 ARR & Revenue Impact  \n",
    "- Analyze **ARR distribution** across segments  \n",
    "- Identify relationship between **deal size and conversion time**  \n",
    "- **Charts:** Histogram (ARR Distribution), Scatter Plot (ARR vs. Conversion Time)  \n",
    "\n",
    "#### 🌍 Regional Performance  \n",
    "- Compare **lead volume & conversion rates by country/region**  \n",
    "- Assess **regional differences in sales cycles**  \n",
    "- **Charts:** Heatmap (Leads & Conversions), Region vs. Conversion Rate  \n",
    "\n",
    "\n",
    "## 🚀 Next Steps  \n",
    "- Implement SQL queries for deeper insights  \n",
    "- Build interactive Tableau/ Hubspot dashboards for real-time monitoring  \n",
    "\n",
    "---"
   ]
  },
  {
   "cell_type": "markdown",
   "metadata": {},
   "source": [
    "### 1️⃣ Data Cleaning & Preprocessing  \n"
   ]
  },
  {
   "cell_type": "code",
   "execution_count": 155,
   "metadata": {},
   "outputs": [
    {
     "data": {
      "text/html": [
       "<div>\n",
       "<style scoped>\n",
       "    .dataframe tbody tr th:only-of-type {\n",
       "        vertical-align: middle;\n",
       "    }\n",
       "\n",
       "    .dataframe tbody tr th {\n",
       "        vertical-align: top;\n",
       "    }\n",
       "\n",
       "    .dataframe thead th {\n",
       "        text-align: right;\n",
       "    }\n",
       "</style>\n",
       "<table border=\"1\" class=\"dataframe\">\n",
       "  <thead>\n",
       "    <tr style=\"text-align: right;\">\n",
       "      <th></th>\n",
       "      <th>Company number</th>\n",
       "      <th>Job Title</th>\n",
       "      <th>Industry</th>\n",
       "      <th>Main Company Interest</th>\n",
       "      <th>Country</th>\n",
       "      <th>Country Region</th>\n",
       "      <th>Channel Group (Inbound)</th>\n",
       "      <th>Device Category</th>\n",
       "      <th>Num of Employees</th>\n",
       "      <th>Signup Timestamp Date</th>\n",
       "      <th>Conversion to Mql Timestamp Date</th>\n",
       "      <th>First Demo Date Date</th>\n",
       "      <th>Conversion to Paid Timestamp Date</th>\n",
       "      <th>Arr At Conversion</th>\n",
       "    </tr>\n",
       "  </thead>\n",
       "  <tbody>\n",
       "    <tr>\n",
       "      <th>0</th>\n",
       "      <td>1</td>\n",
       "      <td>Owner</td>\n",
       "      <td>foodBeverages</td>\n",
       "      <td>scheduling</td>\n",
       "      <td>United States of America</td>\n",
       "      <td>NorthAmerica</td>\n",
       "      <td>cpc-Bingpaid</td>\n",
       "      <td>PC</td>\n",
       "      <td>20</td>\n",
       "      <td>14/06/2024</td>\n",
       "      <td>14/06/2024</td>\n",
       "      <td>NaN</td>\n",
       "      <td>NaN</td>\n",
       "      <td>NaN</td>\n",
       "    </tr>\n",
       "    <tr>\n",
       "      <th>1</th>\n",
       "      <td>2</td>\n",
       "      <td>xb</td>\n",
       "      <td>retail</td>\n",
       "      <td>taskManagement</td>\n",
       "      <td>Afghanistan</td>\n",
       "      <td>ArabStates</td>\n",
       "      <td>mobile</td>\n",
       "      <td>Mobile</td>\n",
       "      <td>3,000</td>\n",
       "      <td>14/06/2024</td>\n",
       "      <td>NaN</td>\n",
       "      <td>NaN</td>\n",
       "      <td>NaN</td>\n",
       "      <td>NaN</td>\n",
       "    </tr>\n",
       "    <tr>\n",
       "      <th>2</th>\n",
       "      <td>3</td>\n",
       "      <td>Foreman</td>\n",
       "      <td>construction</td>\n",
       "      <td>general</td>\n",
       "      <td>Australia</td>\n",
       "      <td>APAC</td>\n",
       "      <td>cpc-google_pmax</td>\n",
       "      <td>Mobile</td>\n",
       "      <td>20</td>\n",
       "      <td>14/06/2024</td>\n",
       "      <td>15/06/2024</td>\n",
       "      <td>NaN</td>\n",
       "      <td>NaN</td>\n",
       "      <td>NaN</td>\n",
       "    </tr>\n",
       "    <tr>\n",
       "      <th>3</th>\n",
       "      <td>4</td>\n",
       "      <td>nxn</td>\n",
       "      <td>retail</td>\n",
       "      <td>taskManagement</td>\n",
       "      <td>Afghanistan</td>\n",
       "      <td>ArabStates</td>\n",
       "      <td>mobile</td>\n",
       "      <td>Mobile</td>\n",
       "      <td>3,000</td>\n",
       "      <td>14/06/2024</td>\n",
       "      <td>NaN</td>\n",
       "      <td>NaN</td>\n",
       "      <td>NaN</td>\n",
       "      <td>NaN</td>\n",
       "    </tr>\n",
       "    <tr>\n",
       "      <th>4</th>\n",
       "      <td>5</td>\n",
       "      <td>vbb</td>\n",
       "      <td>retail</td>\n",
       "      <td>taskManagement</td>\n",
       "      <td>Afghanistan</td>\n",
       "      <td>ArabStates</td>\n",
       "      <td>mobile</td>\n",
       "      <td>Mobile</td>\n",
       "      <td>3,000</td>\n",
       "      <td>14/06/2024</td>\n",
       "      <td>NaN</td>\n",
       "      <td>NaN</td>\n",
       "      <td>NaN</td>\n",
       "      <td>NaN</td>\n",
       "    </tr>\n",
       "    <tr>\n",
       "      <th>...</th>\n",
       "      <td>...</td>\n",
       "      <td>...</td>\n",
       "      <td>...</td>\n",
       "      <td>...</td>\n",
       "      <td>...</td>\n",
       "      <td>...</td>\n",
       "      <td>...</td>\n",
       "      <td>...</td>\n",
       "      <td>...</td>\n",
       "      <td>...</td>\n",
       "      <td>...</td>\n",
       "      <td>...</td>\n",
       "      <td>...</td>\n",
       "      <td>...</td>\n",
       "    </tr>\n",
       "    <tr>\n",
       "      <th>3901</th>\n",
       "      <td>3902</td>\n",
       "      <td>Saw guy</td>\n",
       "      <td>construction</td>\n",
       "      <td>general</td>\n",
       "      <td>United States of America</td>\n",
       "      <td>NorthAmerica</td>\n",
       "      <td>mobile</td>\n",
       "      <td>Mobile</td>\n",
       "      <td>20</td>\n",
       "      <td>01/06/2024</td>\n",
       "      <td>NaN</td>\n",
       "      <td>NaN</td>\n",
       "      <td>NaN</td>\n",
       "      <td>NaN</td>\n",
       "    </tr>\n",
       "    <tr>\n",
       "      <th>3902</th>\n",
       "      <td>3903</td>\n",
       "      <td>APR Coordinator</td>\n",
       "      <td>religious</td>\n",
       "      <td>schedule</td>\n",
       "      <td>United States of America</td>\n",
       "      <td>NorthAmerica</td>\n",
       "      <td>mobile</td>\n",
       "      <td>Mobile</td>\n",
       "      <td>20</td>\n",
       "      <td>01/06/2024</td>\n",
       "      <td>NaN</td>\n",
       "      <td>NaN</td>\n",
       "      <td>NaN</td>\n",
       "      <td>NaN</td>\n",
       "    </tr>\n",
       "    <tr>\n",
       "      <th>3903</th>\n",
       "      <td>3904</td>\n",
       "      <td>Operations Manager</td>\n",
       "      <td>foodBeverages</td>\n",
       "      <td>scheduling</td>\n",
       "      <td>United Kingdom</td>\n",
       "      <td>Europe</td>\n",
       "      <td>cpc-Bingpaid</td>\n",
       "      <td>PC</td>\n",
       "      <td>40</td>\n",
       "      <td>01/06/2024</td>\n",
       "      <td>NaN</td>\n",
       "      <td>NaN</td>\n",
       "      <td>NaN</td>\n",
       "      <td>NaN</td>\n",
       "    </tr>\n",
       "    <tr>\n",
       "      <th>3904</th>\n",
       "      <td>3905</td>\n",
       "      <td>HUMAN RESOURCES</td>\n",
       "      <td>other</td>\n",
       "      <td>general</td>\n",
       "      <td>Nigeria</td>\n",
       "      <td>Africa</td>\n",
       "      <td>organic</td>\n",
       "      <td>PC</td>\n",
       "      <td>350</td>\n",
       "      <td>01/06/2024</td>\n",
       "      <td>01/06/2024</td>\n",
       "      <td>NaN</td>\n",
       "      <td>NaN</td>\n",
       "      <td>NaN</td>\n",
       "    </tr>\n",
       "    <tr>\n",
       "      <th>3905</th>\n",
       "      <td>3906</td>\n",
       "      <td>PM</td>\n",
       "      <td>other</td>\n",
       "      <td>scheduling</td>\n",
       "      <td>United States of America</td>\n",
       "      <td>NorthAmerica</td>\n",
       "      <td>cpc-google</td>\n",
       "      <td>Tablet</td>\n",
       "      <td>40</td>\n",
       "      <td>01/06/2024</td>\n",
       "      <td>NaN</td>\n",
       "      <td>NaN</td>\n",
       "      <td>NaN</td>\n",
       "      <td>NaN</td>\n",
       "    </tr>\n",
       "  </tbody>\n",
       "</table>\n",
       "<p>3906 rows × 14 columns</p>\n",
       "</div>"
      ],
      "text/plain": [
       "      Company number           Job Title       Industry  \\\n",
       "0                  1               Owner  foodBeverages   \n",
       "1                  2                  xb         retail   \n",
       "2                  3             Foreman   construction   \n",
       "3                  4                 nxn         retail   \n",
       "4                  5                 vbb         retail   \n",
       "...              ...                 ...            ...   \n",
       "3901            3902             Saw guy   construction   \n",
       "3902            3903     APR Coordinator      religious   \n",
       "3903            3904  Operations Manager  foodBeverages   \n",
       "3904            3905     HUMAN RESOURCES          other   \n",
       "3905            3906                  PM          other   \n",
       "\n",
       "      Main Company Interest                   Country Country Region  \\\n",
       "0                scheduling  United States of America   NorthAmerica   \n",
       "1            taskManagement               Afghanistan     ArabStates   \n",
       "2                   general                 Australia           APAC   \n",
       "3            taskManagement               Afghanistan     ArabStates   \n",
       "4            taskManagement               Afghanistan     ArabStates   \n",
       "...                     ...                       ...            ...   \n",
       "3901                general  United States of America   NorthAmerica   \n",
       "3902               schedule  United States of America   NorthAmerica   \n",
       "3903             scheduling            United Kingdom         Europe   \n",
       "3904                general                   Nigeria         Africa   \n",
       "3905             scheduling  United States of America   NorthAmerica   \n",
       "\n",
       "     Channel Group (Inbound) Device Category  Num of Employees  \\\n",
       "0               cpc-Bingpaid              PC                20   \n",
       "1                     mobile          Mobile             3,000   \n",
       "2            cpc-google_pmax          Mobile                20   \n",
       "3                     mobile          Mobile             3,000   \n",
       "4                     mobile          Mobile             3,000   \n",
       "...                      ...             ...               ...   \n",
       "3901                  mobile          Mobile                20   \n",
       "3902                  mobile          Mobile                20   \n",
       "3903            cpc-Bingpaid              PC                40   \n",
       "3904                 organic              PC               350   \n",
       "3905              cpc-google          Tablet                40   \n",
       "\n",
       "      Signup Timestamp Date  Conversion to Mql Timestamp Date  \\\n",
       "0                14/06/2024                        14/06/2024   \n",
       "1                14/06/2024                               NaN   \n",
       "2                14/06/2024                        15/06/2024   \n",
       "3                14/06/2024                               NaN   \n",
       "4                14/06/2024                               NaN   \n",
       "...                     ...                               ...   \n",
       "3901             01/06/2024                               NaN   \n",
       "3902             01/06/2024                               NaN   \n",
       "3903             01/06/2024                               NaN   \n",
       "3904             01/06/2024                        01/06/2024   \n",
       "3905             01/06/2024                               NaN   \n",
       "\n",
       "      First Demo Date Date  Conversion to Paid Timestamp Date  \\\n",
       "0                      NaN                                NaN   \n",
       "1                      NaN                                NaN   \n",
       "2                      NaN                                NaN   \n",
       "3                      NaN                                NaN   \n",
       "4                      NaN                                NaN   \n",
       "...                    ...                                ...   \n",
       "3901                   NaN                                NaN   \n",
       "3902                   NaN                                NaN   \n",
       "3903                   NaN                                NaN   \n",
       "3904                   NaN                                NaN   \n",
       "3905                   NaN                                NaN   \n",
       "\n",
       "      Arr At Conversion  \n",
       "0                   NaN  \n",
       "1                   NaN  \n",
       "2                   NaN  \n",
       "3                   NaN  \n",
       "4                   NaN  \n",
       "...                 ...  \n",
       "3901                NaN  \n",
       "3902                NaN  \n",
       "3903                NaN  \n",
       "3904                NaN  \n",
       "3905                NaN  \n",
       "\n",
       "[3906 rows x 14 columns]"
      ]
     },
     "execution_count": 155,
     "metadata": {},
     "output_type": "execute_result"
    }
   ],
   "source": [
    "import pandas as pd\n",
    "import numpy as np\n",
    "import re\n",
    "import shutil  # For file copying\n",
    "from googletrans import Translator\n",
    "from deep_translator import GoogleTranslator\n",
    "import squarify\n",
    "import matplotlib.pyplot as plt\n",
    "import seaborn as sns\n",
    "import warnings\n",
    "warnings.filterwarnings(\"ignore\")\n",
    "tf= pd.read_csv('Connecteam_Bizops_HA_ 2025.csv')\n",
    "tf"
   ]
  },
  {
   "cell_type": "code",
   "execution_count": 156,
   "metadata": {},
   "outputs": [
    {
     "name": "stdout",
     "output_type": "stream",
     "text": [
      "<class 'pandas.core.frame.DataFrame'>\n",
      "RangeIndex: 3906 entries, 0 to 3905\n",
      "Data columns (total 14 columns):\n",
      " #   Column                              Non-Null Count  Dtype \n",
      "---  ------                              --------------  ----- \n",
      " 0   Company number                      3906 non-null   int64 \n",
      " 1    Job Title                          3896 non-null   object\n",
      " 2    Industry                           3905 non-null   object\n",
      " 3    Main Company Interest              3905 non-null   object\n",
      " 4    Country                            3906 non-null   object\n",
      " 5   Country Region                      3906 non-null   object\n",
      " 6   Channel Group (Inbound)             3834 non-null   object\n",
      " 7   Device Category                     3906 non-null   object\n",
      " 8    Num of Employees                   3905 non-null   object\n",
      " 9    Signup Timestamp Date              3906 non-null   object\n",
      " 10   Conversion to Mql Timestamp Date   1302 non-null   object\n",
      " 11   First Demo Date Date               392 non-null    object\n",
      " 12   Conversion to Paid Timestamp Date  456 non-null    object\n",
      " 13   Arr At Conversion                  455 non-null    object\n",
      "dtypes: int64(1), object(13)\n",
      "memory usage: 427.3+ KB\n"
     ]
    }
   ],
   "source": [
    "tf.info()"
   ]
  },
  {
   "cell_type": "code",
   "execution_count": 157,
   "metadata": {},
   "outputs": [
    {
     "data": {
      "text/plain": [
       "Company number                           0\n",
       " Job Title                              10\n",
       " Industry                                1\n",
       " Main Company Interest                   1\n",
       " Country                                 0\n",
       "Country Region                           0\n",
       "Channel Group (Inbound)                 72\n",
       "Device Category                          0\n",
       " Num of Employees                        1\n",
       " Signup Timestamp Date                   0\n",
       " Conversion to Mql Timestamp Date     2604\n",
       " First Demo Date Date                 3514\n",
       " Conversion to Paid Timestamp Date    3450\n",
       " Arr At Conversion                    3451\n",
       "dtype: int64"
      ]
     },
     "execution_count": 157,
     "metadata": {},
     "output_type": "execute_result"
    }
   ],
   "source": [
    "tf.isnull().sum()"
   ]
  },
  {
   "cell_type": "code",
   "execution_count": 158,
   "metadata": {},
   "outputs": [
    {
     "data": {
      "text/plain": [
       "np.int64(0)"
      ]
     },
     "execution_count": 158,
     "metadata": {},
     "output_type": "execute_result"
    }
   ],
   "source": [
    "tf.duplicated().sum()"
   ]
  },
  {
   "cell_type": "markdown",
   "metadata": {},
   "source": [
    "**No Duplicates found.**"
   ]
  },
  {
   "cell_type": "markdown",
   "metadata": {},
   "source": [
    "# **Fake Lead Filtering Script**\n",
    "\n",
    "## **Overview**  \n",
    "This script identifies and removes fake leads from a sales dataset based on specific criteria. It saves cleaned data and fake leads separately.  \n",
    "\n",
    "## **Process**  \n",
    "\n",
    "### **1. Load and Backup Data**  \n",
    "- Reads the CSV file into a Pandas DataFrame.  \n",
    "- Creates a backup copy of the original file.  \n",
    "\n",
    "### **2. Define Fake Lead Conditions**  \n",
    "A lead is considered **fake** if:  \n",
    "- **Country is Afghanistan**  \n",
    "- **Job title has repeated characters** (e.g., \"AAAA CEO\")  \n",
    "- **Job title contains unusual symbols**  \n",
    "- **Missing key timestamps** (e.g., demo or paid date)  \n",
    "- **Not in the \"Keep Titles\" list** (e.g., CEO, HR, CTO)  \n",
    "\n",
    "### **3. Filter and Save Data**  \n",
    "- Separates fake and valid leads.  \n",
    "- Translates job titles for valid leads if needed.  \n",
    "- Saves results into `fake_leads.csv` and `cleaned_sales_data.csv`.  \n",
    "\n",
    "## **Purpose**  \n",
    "- Improves data quality for analysis.  \n",
    "- Automates lead validation.  \n",
    "- Saves time and reduces manual filtering.  "
   ]
  },
  {
   "cell_type": "code",
   "execution_count": 159,
   "metadata": {},
   "outputs": [
    {
     "name": "stdout",
     "output_type": "stream",
     "text": [
      "Backup created: Connecteam_Bizops_HA_2025_backup.csv\n",
      "Fake leads saved to: fake_leads.csv\n",
      "Cleaned data saved as: cleaned_sales_data.csv\n"
     ]
    }
   ],
   "source": [
    "# Define file paths\n",
    "original_file = \"/Users/teitelbaumsair/Desktop/Open-Source-Projects/Connecteam BOM Assignment/Connecteam_Bizops_HA_ 2025.csv\"\n",
    "backup_file = \"Connecteam_Bizops_HA_2025_backup.csv\"\n",
    "cleaned_file = \"cleaned_sales_data.csv\"\n",
    "fake_leads_file = \"fake_leads.csv\"\n",
    "\n",
    "# Create a backup of the original file\n",
    "shutil.copy(original_file, backup_file)\n",
    "print(f\"Backup created: {backup_file}\")\n",
    "\n",
    "# Load the data\n",
    "df = pd.read_csv(original_file)\n",
    "\n",
    "# Strip column names of any whitespace\n",
    "df.columns = df.columns.str.strip()\n",
    "\n",
    "# List of important job titles to KEEP\n",
    "keep_titles = [\"VP\", \"CEO\", \"CTO\", \"CFO\", \"COO\", \"Founder\", \"Owner\", \"HR\", \"CRO\"]\n",
    "\n",
    "# Function to detect fake leads\n",
    "def is_fake_lead(df):\n",
    "    # Conditions for fake leads\n",
    "    is_from_afghanistan = df[\"Country\"].str.strip().str.lower() == \"afghanistan\"\n",
    "    \n",
    "    # Detect repeating characters (e.g., \"xxx\", \"aaa\")\n",
    "    repeating_chars = df[\"Job Title\"].str.contains(r\"(.)\\1{2,}\", regex=True, na=False)\n",
    "    \n",
    "    # Detect weird symbols (excluding common ones like dots, slashes, and dashes)\n",
    "    weird_symbols = df[\"Job Title\"].str.contains(r\"[^a-zA-Z\\s\\.\\-/]\", regex=True, na=False)\n",
    "    \n",
    "    # Check if any of the columns contain conversion-related dates\n",
    "    has_conversion_date = df[\"Conversion to Mql Timestamp Date\"].notna()\n",
    "    has_demo_date = df[\"First Demo Date Date\"].notna()\n",
    "    has_paid_date = df[\"Conversion to Paid Timestamp Date\"].notna()\n",
    "    has_arrival_date = df[\"Arr At Conversion\"].notna()\n",
    "\n",
    "    # Check if job title is in the 'keep_titles' list\n",
    "    is_keep_title = df[\"Job Title\"].str.strip().str.upper().isin([title.upper() for title in keep_titles])\n",
    "    \n",
    "    # Combine all conditions for fake leads\n",
    "    fake_leads_condition = (\n",
    "        (is_from_afghanistan | repeating_chars | weird_symbols) & \n",
    "        ~(\n",
    "            has_conversion_date | has_demo_date | has_paid_date | has_arrival_date | is_keep_title\n",
    "        )\n",
    "    )\n",
    "    \n",
    "    return fake_leads_condition\n",
    "\n",
    "# Identify fake leads\n",
    "fake_leads_condition = is_fake_lead(df)\n",
    "fake_leads = df[fake_leads_condition]\n",
    "valid_leads = df[~fake_leads_condition]\n",
    "\n",
    "# Save fake leads and cleaned leads to separate files\n",
    "fake_leads.to_csv(fake_leads_file, index=False)\n",
    "valid_leads.to_csv(cleaned_file, index=False)\n",
    "\n",
    "print(f\"Fake leads saved to: {fake_leads_file}\")\n",
    "print(f\"Cleaned data saved as: {cleaned_file}\")"
   ]
  },
  {
   "cell_type": "markdown",
   "metadata": {},
   "source": [
    "# **📊 Deep Dive Analysis on Cleaned Sales Data**  \n",
    "\n",
    "## **Objective**  \n",
    "Now that we have cleaned the sales data, we will conduct an in-depth analysis to uncover key trends, segment performance, and revenue insights.  \n",
    "\n",
    "## **Analysis Breakdown**  \n",
    "\n",
    "### **📈 Lead Volume & Growth Trends**  \n",
    "- Track **lead acquisition trends** over time, differentiating between Inbound vs. Outbound.  \n",
    "- **Charts:** Time Series Analysis, Lead Source Breakdown.  \n",
    "\n",
    "### **🔄 Funnel Performance & Conversion Rates**  \n",
    "- Analyze **conversion rates** across the stages: **Signup → MQL → Demo → Paid**.  \n",
    "- Identify **bottlenecks** and measure **average time per stage**.  \n",
    "- **Charts:** Funnel Chart, Box Plot (Conversion Time), Cohort Analysis.  \n",
    "\n",
    "### **🏢 Industry & Company Size Breakdown**  \n",
    "- Identify **top-performing industries** and their conversion rates.  \n",
    "- Analyze how **company size** impacts lead conversion.  \n",
    "- **Charts:** Industry vs. Conversion Rate, Employee Count Breakdown.  \n",
    "\n",
    "### **💰 ARR & Revenue Impact**  \n",
    "- Examine **ARR distribution** across lead segments.  \n",
    "- Detect correlation between **deal size and conversion time**.  \n",
    "- **Charts:** Histogram (ARR Distribution), Scatter Plot (ARR vs. Conversion Time).  \n",
    "\n",
    "### **🌍 Regional Performance**  \n",
    "- Compare **lead volume and conversion rates** across different countries/regions.  \n",
    "- Assess **regional variations in sales cycles**.  \n",
    "- **Charts:** Heatmap (Leads & Conversions), Region vs. Conversion Rate.  \n",
    "\n",
    "## **📊 Additional Insights for Business Operations**  \n",
    "To further optimize performance, consider analyzing:  \n",
    "- **Marketing Source & Lead Score** → Assess acquisition efficiency.  \n",
    "- **Sales Rep Assignment & Follow-Up Cadence** → Improve sales team effectiveness.  \n",
    "- **Feature Usage & Churn Rate** → Enhance retention & customer success.  \n",
    "\n",
    "🚀 *This analysis will help drive data-driven decision-making and refine sales strategies!*  "
   ]
  },
  {
   "cell_type": "code",
   "execution_count": 160,
   "metadata": {},
   "outputs": [
    {
     "data": {
      "text/html": [
       "<div>\n",
       "<style scoped>\n",
       "    .dataframe tbody tr th:only-of-type {\n",
       "        vertical-align: middle;\n",
       "    }\n",
       "\n",
       "    .dataframe tbody tr th {\n",
       "        vertical-align: top;\n",
       "    }\n",
       "\n",
       "    .dataframe thead th {\n",
       "        text-align: right;\n",
       "    }\n",
       "</style>\n",
       "<table border=\"1\" class=\"dataframe\">\n",
       "  <thead>\n",
       "    <tr style=\"text-align: right;\">\n",
       "      <th></th>\n",
       "      <th>Company number</th>\n",
       "      <th>Job Title</th>\n",
       "      <th>Industry</th>\n",
       "      <th>Main Company Interest</th>\n",
       "      <th>Country</th>\n",
       "      <th>Country Region</th>\n",
       "      <th>Channel Group (Inbound)</th>\n",
       "      <th>Device Category</th>\n",
       "      <th>Num of Employees</th>\n",
       "      <th>Signup Timestamp Date</th>\n",
       "      <th>Conversion to Mql Timestamp Date</th>\n",
       "      <th>First Demo Date Date</th>\n",
       "      <th>Conversion to Paid Timestamp Date</th>\n",
       "      <th>Arr At Conversion</th>\n",
       "    </tr>\n",
       "  </thead>\n",
       "  <tbody>\n",
       "    <tr>\n",
       "      <th>0</th>\n",
       "      <td>1</td>\n",
       "      <td>Owner</td>\n",
       "      <td>foodBeverages</td>\n",
       "      <td>scheduling</td>\n",
       "      <td>United States of America</td>\n",
       "      <td>NorthAmerica</td>\n",
       "      <td>cpc-Bingpaid</td>\n",
       "      <td>PC</td>\n",
       "      <td>20</td>\n",
       "      <td>14/06/2024</td>\n",
       "      <td>14/06/2024</td>\n",
       "      <td>NaN</td>\n",
       "      <td>NaN</td>\n",
       "      <td>NaN</td>\n",
       "    </tr>\n",
       "    <tr>\n",
       "      <th>1</th>\n",
       "      <td>3</td>\n",
       "      <td>Foreman</td>\n",
       "      <td>construction</td>\n",
       "      <td>general</td>\n",
       "      <td>Australia</td>\n",
       "      <td>APAC</td>\n",
       "      <td>cpc-google_pmax</td>\n",
       "      <td>Mobile</td>\n",
       "      <td>20</td>\n",
       "      <td>14/06/2024</td>\n",
       "      <td>15/06/2024</td>\n",
       "      <td>NaN</td>\n",
       "      <td>NaN</td>\n",
       "      <td>NaN</td>\n",
       "    </tr>\n",
       "    <tr>\n",
       "      <th>2</th>\n",
       "      <td>6</td>\n",
       "      <td>QA Manager</td>\n",
       "      <td>manufacturing</td>\n",
       "      <td>checklists</td>\n",
       "      <td>Mexico</td>\n",
       "      <td>NorthAmerica</td>\n",
       "      <td>cpc-google</td>\n",
       "      <td>PC</td>\n",
       "      <td>3,000</td>\n",
       "      <td>14/06/2024</td>\n",
       "      <td>14/06/2024</td>\n",
       "      <td>NaN</td>\n",
       "      <td>NaN</td>\n",
       "      <td>NaN</td>\n",
       "    </tr>\n",
       "    <tr>\n",
       "      <th>3</th>\n",
       "      <td>7</td>\n",
       "      <td>Manager</td>\n",
       "      <td>foodBeverages</td>\n",
       "      <td>scheduling</td>\n",
       "      <td>Canada</td>\n",
       "      <td>NorthAmerica</td>\n",
       "      <td>cpc-google</td>\n",
       "      <td>PC</td>\n",
       "      <td>20</td>\n",
       "      <td>14/06/2024</td>\n",
       "      <td>14/06/2024</td>\n",
       "      <td>NaN</td>\n",
       "      <td>28/06/2024</td>\n",
       "      <td>1,128</td>\n",
       "    </tr>\n",
       "    <tr>\n",
       "      <th>4</th>\n",
       "      <td>9</td>\n",
       "      <td>Auto electrician</td>\n",
       "      <td>fieldServices</td>\n",
       "      <td>general</td>\n",
       "      <td>South Africa</td>\n",
       "      <td>Africa</td>\n",
       "      <td>mobile</td>\n",
       "      <td>Mobile</td>\n",
       "      <td>75</td>\n",
       "      <td>14/06/2024</td>\n",
       "      <td>NaN</td>\n",
       "      <td>NaN</td>\n",
       "      <td>NaN</td>\n",
       "      <td>NaN</td>\n",
       "    </tr>\n",
       "    <tr>\n",
       "      <th>...</th>\n",
       "      <td>...</td>\n",
       "      <td>...</td>\n",
       "      <td>...</td>\n",
       "      <td>...</td>\n",
       "      <td>...</td>\n",
       "      <td>...</td>\n",
       "      <td>...</td>\n",
       "      <td>...</td>\n",
       "      <td>...</td>\n",
       "      <td>...</td>\n",
       "      <td>...</td>\n",
       "      <td>...</td>\n",
       "      <td>...</td>\n",
       "      <td>...</td>\n",
       "    </tr>\n",
       "    <tr>\n",
       "      <th>3598</th>\n",
       "      <td>3902</td>\n",
       "      <td>Saw guy</td>\n",
       "      <td>construction</td>\n",
       "      <td>general</td>\n",
       "      <td>United States of America</td>\n",
       "      <td>NorthAmerica</td>\n",
       "      <td>mobile</td>\n",
       "      <td>Mobile</td>\n",
       "      <td>20</td>\n",
       "      <td>01/06/2024</td>\n",
       "      <td>NaN</td>\n",
       "      <td>NaN</td>\n",
       "      <td>NaN</td>\n",
       "      <td>NaN</td>\n",
       "    </tr>\n",
       "    <tr>\n",
       "      <th>3599</th>\n",
       "      <td>3903</td>\n",
       "      <td>APR Coordinator</td>\n",
       "      <td>religious</td>\n",
       "      <td>schedule</td>\n",
       "      <td>United States of America</td>\n",
       "      <td>NorthAmerica</td>\n",
       "      <td>mobile</td>\n",
       "      <td>Mobile</td>\n",
       "      <td>20</td>\n",
       "      <td>01/06/2024</td>\n",
       "      <td>NaN</td>\n",
       "      <td>NaN</td>\n",
       "      <td>NaN</td>\n",
       "      <td>NaN</td>\n",
       "    </tr>\n",
       "    <tr>\n",
       "      <th>3600</th>\n",
       "      <td>3904</td>\n",
       "      <td>Operations Manager</td>\n",
       "      <td>foodBeverages</td>\n",
       "      <td>scheduling</td>\n",
       "      <td>United Kingdom</td>\n",
       "      <td>Europe</td>\n",
       "      <td>cpc-Bingpaid</td>\n",
       "      <td>PC</td>\n",
       "      <td>40</td>\n",
       "      <td>01/06/2024</td>\n",
       "      <td>NaN</td>\n",
       "      <td>NaN</td>\n",
       "      <td>NaN</td>\n",
       "      <td>NaN</td>\n",
       "    </tr>\n",
       "    <tr>\n",
       "      <th>3601</th>\n",
       "      <td>3905</td>\n",
       "      <td>HUMAN RESOURCES</td>\n",
       "      <td>other</td>\n",
       "      <td>general</td>\n",
       "      <td>Nigeria</td>\n",
       "      <td>Africa</td>\n",
       "      <td>organic</td>\n",
       "      <td>PC</td>\n",
       "      <td>350</td>\n",
       "      <td>01/06/2024</td>\n",
       "      <td>01/06/2024</td>\n",
       "      <td>NaN</td>\n",
       "      <td>NaN</td>\n",
       "      <td>NaN</td>\n",
       "    </tr>\n",
       "    <tr>\n",
       "      <th>3602</th>\n",
       "      <td>3906</td>\n",
       "      <td>PM</td>\n",
       "      <td>other</td>\n",
       "      <td>scheduling</td>\n",
       "      <td>United States of America</td>\n",
       "      <td>NorthAmerica</td>\n",
       "      <td>cpc-google</td>\n",
       "      <td>Tablet</td>\n",
       "      <td>40</td>\n",
       "      <td>01/06/2024</td>\n",
       "      <td>NaN</td>\n",
       "      <td>NaN</td>\n",
       "      <td>NaN</td>\n",
       "      <td>NaN</td>\n",
       "    </tr>\n",
       "  </tbody>\n",
       "</table>\n",
       "<p>3603 rows × 14 columns</p>\n",
       "</div>"
      ],
      "text/plain": [
       "      Company number           Job Title       Industry Main Company Interest  \\\n",
       "0                  1               Owner  foodBeverages            scheduling   \n",
       "1                  3             Foreman   construction               general   \n",
       "2                  6          QA Manager  manufacturing            checklists   \n",
       "3                  7             Manager  foodBeverages            scheduling   \n",
       "4                  9    Auto electrician  fieldServices               general   \n",
       "...              ...                 ...            ...                   ...   \n",
       "3598            3902             Saw guy   construction               general   \n",
       "3599            3903     APR Coordinator      religious              schedule   \n",
       "3600            3904  Operations Manager  foodBeverages            scheduling   \n",
       "3601            3905     HUMAN RESOURCES          other               general   \n",
       "3602            3906                  PM          other            scheduling   \n",
       "\n",
       "                       Country Country Region Channel Group (Inbound)  \\\n",
       "0     United States of America   NorthAmerica            cpc-Bingpaid   \n",
       "1                    Australia           APAC         cpc-google_pmax   \n",
       "2                       Mexico   NorthAmerica              cpc-google   \n",
       "3                       Canada   NorthAmerica              cpc-google   \n",
       "4                 South Africa         Africa                  mobile   \n",
       "...                        ...            ...                     ...   \n",
       "3598  United States of America   NorthAmerica                  mobile   \n",
       "3599  United States of America   NorthAmerica                  mobile   \n",
       "3600            United Kingdom         Europe            cpc-Bingpaid   \n",
       "3601                   Nigeria         Africa                 organic   \n",
       "3602  United States of America   NorthAmerica              cpc-google   \n",
       "\n",
       "     Device Category Num of Employees Signup Timestamp Date  \\\n",
       "0                 PC               20            14/06/2024   \n",
       "1             Mobile               20            14/06/2024   \n",
       "2                 PC            3,000            14/06/2024   \n",
       "3                 PC               20            14/06/2024   \n",
       "4             Mobile               75            14/06/2024   \n",
       "...              ...              ...                   ...   \n",
       "3598          Mobile               20            01/06/2024   \n",
       "3599          Mobile               20            01/06/2024   \n",
       "3600              PC               40            01/06/2024   \n",
       "3601              PC              350            01/06/2024   \n",
       "3602          Tablet               40            01/06/2024   \n",
       "\n",
       "     Conversion to Mql Timestamp Date First Demo Date Date  \\\n",
       "0                          14/06/2024                  NaN   \n",
       "1                          15/06/2024                  NaN   \n",
       "2                          14/06/2024                  NaN   \n",
       "3                          14/06/2024                  NaN   \n",
       "4                                 NaN                  NaN   \n",
       "...                               ...                  ...   \n",
       "3598                              NaN                  NaN   \n",
       "3599                              NaN                  NaN   \n",
       "3600                              NaN                  NaN   \n",
       "3601                       01/06/2024                  NaN   \n",
       "3602                              NaN                  NaN   \n",
       "\n",
       "     Conversion to Paid Timestamp Date Arr At Conversion  \n",
       "0                                  NaN               NaN  \n",
       "1                                  NaN               NaN  \n",
       "2                                  NaN               NaN  \n",
       "3                           28/06/2024             1,128  \n",
       "4                                  NaN               NaN  \n",
       "...                                ...               ...  \n",
       "3598                               NaN               NaN  \n",
       "3599                               NaN               NaN  \n",
       "3600                               NaN               NaN  \n",
       "3601                               NaN               NaN  \n",
       "3602                               NaN               NaN  \n",
       "\n",
       "[3603 rows x 14 columns]"
      ]
     },
     "execution_count": 160,
     "metadata": {},
     "output_type": "execute_result"
    }
   ],
   "source": [
    "cd = pd.read_csv(\"/Users/teitelbaumsair/Desktop/Open-Source-Projects/Connecteam BOM Assignment/cleaned_sales_data.csv\")\n",
    "cd"
   ]
  },
  {
   "cell_type": "markdown",
   "metadata": {},
   "source": [
    "Remove rows that contain test leads."
   ]
  },
  {
   "cell_type": "code",
   "execution_count": 161,
   "metadata": {},
   "outputs": [
    {
     "data": {
      "text/html": [
       "<div>\n",
       "<style scoped>\n",
       "    .dataframe tbody tr th:only-of-type {\n",
       "        vertical-align: middle;\n",
       "    }\n",
       "\n",
       "    .dataframe tbody tr th {\n",
       "        vertical-align: top;\n",
       "    }\n",
       "\n",
       "    .dataframe thead th {\n",
       "        text-align: right;\n",
       "    }\n",
       "</style>\n",
       "<table border=\"1\" class=\"dataframe\">\n",
       "  <thead>\n",
       "    <tr style=\"text-align: right;\">\n",
       "      <th></th>\n",
       "      <th>Company number</th>\n",
       "      <th>Job Title</th>\n",
       "      <th>Industry</th>\n",
       "      <th>Main Company Interest</th>\n",
       "      <th>Country</th>\n",
       "      <th>Country Region</th>\n",
       "      <th>Channel Group (Inbound)</th>\n",
       "      <th>Device Category</th>\n",
       "      <th>Num of Employees</th>\n",
       "      <th>Signup Timestamp Date</th>\n",
       "      <th>Conversion to Mql Timestamp Date</th>\n",
       "      <th>First Demo Date Date</th>\n",
       "      <th>Conversion to Paid Timestamp Date</th>\n",
       "      <th>Arr At Conversion</th>\n",
       "    </tr>\n",
       "  </thead>\n",
       "  <tbody>\n",
       "    <tr>\n",
       "      <th>0</th>\n",
       "      <td>1</td>\n",
       "      <td>Owner</td>\n",
       "      <td>foodBeverages</td>\n",
       "      <td>scheduling</td>\n",
       "      <td>United States of America</td>\n",
       "      <td>NorthAmerica</td>\n",
       "      <td>cpc-Bingpaid</td>\n",
       "      <td>PC</td>\n",
       "      <td>20</td>\n",
       "      <td>14/06/2024</td>\n",
       "      <td>14/06/2024</td>\n",
       "      <td>NaN</td>\n",
       "      <td>NaN</td>\n",
       "      <td>NaN</td>\n",
       "    </tr>\n",
       "    <tr>\n",
       "      <th>1</th>\n",
       "      <td>3</td>\n",
       "      <td>Foreman</td>\n",
       "      <td>construction</td>\n",
       "      <td>general</td>\n",
       "      <td>Australia</td>\n",
       "      <td>APAC</td>\n",
       "      <td>cpc-google_pmax</td>\n",
       "      <td>Mobile</td>\n",
       "      <td>20</td>\n",
       "      <td>14/06/2024</td>\n",
       "      <td>15/06/2024</td>\n",
       "      <td>NaN</td>\n",
       "      <td>NaN</td>\n",
       "      <td>NaN</td>\n",
       "    </tr>\n",
       "    <tr>\n",
       "      <th>2</th>\n",
       "      <td>6</td>\n",
       "      <td>QA Manager</td>\n",
       "      <td>manufacturing</td>\n",
       "      <td>checklists</td>\n",
       "      <td>Mexico</td>\n",
       "      <td>NorthAmerica</td>\n",
       "      <td>cpc-google</td>\n",
       "      <td>PC</td>\n",
       "      <td>3,000</td>\n",
       "      <td>14/06/2024</td>\n",
       "      <td>14/06/2024</td>\n",
       "      <td>NaN</td>\n",
       "      <td>NaN</td>\n",
       "      <td>NaN</td>\n",
       "    </tr>\n",
       "    <tr>\n",
       "      <th>3</th>\n",
       "      <td>7</td>\n",
       "      <td>Manager</td>\n",
       "      <td>foodBeverages</td>\n",
       "      <td>scheduling</td>\n",
       "      <td>Canada</td>\n",
       "      <td>NorthAmerica</td>\n",
       "      <td>cpc-google</td>\n",
       "      <td>PC</td>\n",
       "      <td>20</td>\n",
       "      <td>14/06/2024</td>\n",
       "      <td>14/06/2024</td>\n",
       "      <td>NaN</td>\n",
       "      <td>28/06/2024</td>\n",
       "      <td>1,128</td>\n",
       "    </tr>\n",
       "    <tr>\n",
       "      <th>4</th>\n",
       "      <td>9</td>\n",
       "      <td>Auto electrician</td>\n",
       "      <td>fieldServices</td>\n",
       "      <td>general</td>\n",
       "      <td>South Africa</td>\n",
       "      <td>Africa</td>\n",
       "      <td>mobile</td>\n",
       "      <td>Mobile</td>\n",
       "      <td>75</td>\n",
       "      <td>14/06/2024</td>\n",
       "      <td>NaN</td>\n",
       "      <td>NaN</td>\n",
       "      <td>NaN</td>\n",
       "      <td>NaN</td>\n",
       "    </tr>\n",
       "  </tbody>\n",
       "</table>\n",
       "</div>"
      ],
      "text/plain": [
       "   Company number         Job Title       Industry Main Company Interest  \\\n",
       "0               1             Owner  foodBeverages            scheduling   \n",
       "1               3           Foreman   construction               general   \n",
       "2               6        QA Manager  manufacturing            checklists   \n",
       "3               7           Manager  foodBeverages            scheduling   \n",
       "4               9  Auto electrician  fieldServices               general   \n",
       "\n",
       "                    Country Country Region Channel Group (Inbound)  \\\n",
       "0  United States of America   NorthAmerica            cpc-Bingpaid   \n",
       "1                 Australia           APAC         cpc-google_pmax   \n",
       "2                    Mexico   NorthAmerica              cpc-google   \n",
       "3                    Canada   NorthAmerica              cpc-google   \n",
       "4              South Africa         Africa                  mobile   \n",
       "\n",
       "  Device Category Num of Employees Signup Timestamp Date  \\\n",
       "0              PC               20            14/06/2024   \n",
       "1          Mobile               20            14/06/2024   \n",
       "2              PC            3,000            14/06/2024   \n",
       "3              PC               20            14/06/2024   \n",
       "4          Mobile               75            14/06/2024   \n",
       "\n",
       "  Conversion to Mql Timestamp Date First Demo Date Date  \\\n",
       "0                       14/06/2024                  NaN   \n",
       "1                       15/06/2024                  NaN   \n",
       "2                       14/06/2024                  NaN   \n",
       "3                       14/06/2024                  NaN   \n",
       "4                              NaN                  NaN   \n",
       "\n",
       "  Conversion to Paid Timestamp Date Arr At Conversion  \n",
       "0                               NaN               NaN  \n",
       "1                               NaN               NaN  \n",
       "2                               NaN               NaN  \n",
       "3                        28/06/2024             1,128  \n",
       "4                               NaN               NaN  "
      ]
     },
     "execution_count": 161,
     "metadata": {},
     "output_type": "execute_result"
    }
   ],
   "source": [
    "# Drop rows where any column contains the word \"test\"\n",
    "data_cleaned = cd[~cd.apply(lambda row: row.astype(str).str.contains('test', case=False).any(), axis=1)]\n",
    "\n",
    "# Verify the first few rows of the cleaned data\n",
    "data_cleaned.head()"
   ]
  },
  {
   "cell_type": "markdown",
   "metadata": {},
   "source": [
    "### **📈 Lead Volume & Growth Trends**  \n",
    "- Track **lead acquisition trends** over time, differentiating between Inbound vs. Outbound.  \n",
    "- **Charts:** Time Series Analysis, Lead Source Breakdown.  \n"
   ]
  },
  {
   "cell_type": "code",
   "execution_count": 162,
   "metadata": {},
   "outputs": [
    {
     "data": {
      "text/html": [
       "<div>\n",
       "<style scoped>\n",
       "    .dataframe tbody tr th:only-of-type {\n",
       "        vertical-align: middle;\n",
       "    }\n",
       "\n",
       "    .dataframe tbody tr th {\n",
       "        vertical-align: top;\n",
       "    }\n",
       "\n",
       "    .dataframe thead th {\n",
       "        text-align: right;\n",
       "    }\n",
       "</style>\n",
       "<table border=\"1\" class=\"dataframe\">\n",
       "  <thead>\n",
       "    <tr style=\"text-align: right;\">\n",
       "      <th></th>\n",
       "      <th>Channel Group (Inbound)</th>\n",
       "      <th>Lead Type Category</th>\n",
       "    </tr>\n",
       "  </thead>\n",
       "  <tbody>\n",
       "    <tr>\n",
       "      <th>0</th>\n",
       "      <td>cpc-Bingpaid</td>\n",
       "      <td>Paid Search</td>\n",
       "    </tr>\n",
       "    <tr>\n",
       "      <th>1</th>\n",
       "      <td>cpc-google_pmax</td>\n",
       "      <td>Paid Search</td>\n",
       "    </tr>\n",
       "    <tr>\n",
       "      <th>2</th>\n",
       "      <td>cpc-google</td>\n",
       "      <td>Paid Search</td>\n",
       "    </tr>\n",
       "    <tr>\n",
       "      <th>3</th>\n",
       "      <td>cpc-google</td>\n",
       "      <td>Paid Search</td>\n",
       "    </tr>\n",
       "    <tr>\n",
       "      <th>4</th>\n",
       "      <td>mobile</td>\n",
       "      <td>Phone</td>\n",
       "    </tr>\n",
       "  </tbody>\n",
       "</table>\n",
       "</div>"
      ],
      "text/plain": [
       "  Channel Group (Inbound) Lead Type Category\n",
       "0            cpc-Bingpaid        Paid Search\n",
       "1         cpc-google_pmax        Paid Search\n",
       "2              cpc-google        Paid Search\n",
       "3              cpc-google        Paid Search\n",
       "4                  mobile              Phone"
      ]
     },
     "execution_count": 162,
     "metadata": {},
     "output_type": "execute_result"
    }
   ],
   "source": [
    "def categorize_lead_type(channel_group):\n",
    "    # Define mapping of Channel Group (Inbound) to Lead Type Category\n",
    "    mapping = {\n",
    "        'Organic Traffic': ['organic'],\n",
    "        'Direct Traffic': ['direct'],\n",
    "        'Paid Search': [\n",
    "            'cpc-bing', 'cpc-Bingpaid', 'cpc-Bingpaid_brand', 'cpc-businesscom', \n",
    "            'cpc-capterra.com', 'cpc-elearningindustry', 'cpc-google', 'cpc-google_brand', \n",
    "            'cpc-google_il', 'cpc-google_il_brand', 'cpc-google_pmax', 'cpc-google_sd_rmkt', \n",
    "            'cpc-mvf', 'cpc-pmp', 'cpc-saasworthy', 'cpc-selectsoftwarereviews', \n",
    "            'cpc-sourceforge', 'cpc-TechnologyAdvice', 'cpc-TikTok'\n",
    "        ],\n",
    "        'Paid Social': ['social'],\n",
    "        'Blank (Possibly Outbound)': ['', 'Null'],  # Empty or Null values\n",
    "        'Uncategorized': ['uncategorized'],\n",
    "        'Email': ['email'],\n",
    "        'Phone': ['mobile'],\n",
    "        'LinkedIn Sales Navigator': ['insite'],  # Assuming \"insite\" refers to LinkedIn Sales Navigator\n",
    "        'Salesloft/ Apollo': [],  # Not in provided list, will default to 'Uncategorized' if missing\n",
    "        'Influencers': ['influencers'],\n",
    "        'Partnerships': ['partnerships-marketingpartners', 'partnerships-partnerstack'],\n",
    "        'Referral': ['referral']\n",
    "    }\n",
    "    \n",
    "    # Loop through the mapping and return the category\n",
    "    for category, sources in mapping.items():\n",
    "        if str(channel_group).lower() in [s.lower() for s in sources]:\n",
    "            return category\n",
    "    return 'Uncategorized'  # Default to Uncategorized if no match is found\n",
    "\n",
    "# Apply the function to the 'Channel Group (Inbound)' column\n",
    "data_cleaned['Lead Type Category'] = data_cleaned['Channel Group (Inbound)'].apply(categorize_lead_type)\n",
    "\n",
    "# Check results\n",
    "data_cleaned[['Channel Group (Inbound)', 'Lead Type Category']].head()"
   ]
  },
  {
   "cell_type": "code",
   "execution_count": 163,
   "metadata": {},
   "outputs": [],
   "source": [
    "# Ensure date columns are in datetime format\n",
    "date_cols = [\n",
    "    'Signup Timestamp Date', \n",
    "    'Conversion to Mql Timestamp Date', \n",
    "    'First Demo Date Date', \n",
    "    'Conversion to Paid Timestamp Date'\n",
    "]\n",
    "data_cleaned.loc[:, date_cols] = data_cleaned[date_cols].apply(pd.to_datetime, errors='coerce')\n",
    "\n",
    "# Filter out rows where Signup Date is missing (since this is lead acquisition date)\n",
    "data_cleaned = data_cleaned.dropna(subset=['Signup Timestamp Date']).copy()\n",
    "\n",
    "# Fill NaN values in Lead Type Category to avoid errors\n",
    "data_cleaned['Lead Type Category'] = data_cleaned['Lead Type Category'].fillna('Uncategorized')\n",
    "\n",
    "# Define function to classify Inbound vs. Outbound\n",
    "def classify_lead_direction(lead_type):\n",
    "    inbound_categories = {'Organic Traffic', 'Direct Traffic', 'Paid Search', 'Paid Social', 'Referral', 'Email'}\n",
    "    return 'Inbound' if lead_type in inbound_categories else 'Outbound'\n",
    "\n",
    "# Apply classification\n",
    "data_cleaned.loc[:, 'Lead Direction'] = data_cleaned['Lead Type Category'].apply(classify_lead_direction)"
   ]
  },
  {
   "cell_type": "code",
   "execution_count": 164,
   "metadata": {},
   "outputs": [],
   "source": [
    "# Group by Signup Date and Lead Direction\n",
    "lead_trends = data_cleaned.groupby(['Signup Timestamp Date', 'Lead Direction']).size().reset_index(name='Lead Count')\n",
    "\n",
    "# Pivot for easier plotting\n",
    "lead_trends_pivot = lead_trends.pivot(index='Signup Timestamp Date', columns='Lead Direction', values='Lead Count').fillna(0)"
   ]
  },
  {
   "cell_type": "code",
   "execution_count": 165,
   "metadata": {},
   "outputs": [
    {
     "data": {
      "image/png": "[encoded data removed]",
      "text/plain": [
       "<Figure size 1200x600 with 1 Axes>"
      ]
     },
     "metadata": {},
     "output_type": "display_data"
    }
   ],
   "source": [
    "# Set style for plots\n",
    "sns.set_style(\"whitegrid\")\n",
    "\n",
    "# Plot time series of lead acquisition trends\n",
    "plt.figure(figsize=(12, 6))\n",
    "sns.lineplot(data=lead_trends_pivot, marker='o')\n",
    "\n",
    "plt.title(\"Lead Volume Over Time (Inbound vs. Outbound)\")\n",
    "plt.xlabel(\"Date\")\n",
    "plt.ylabel(\"Lead Count\")\n",
    "plt.legend(title=\"Lead Type\")\n",
    "plt.xticks(rotation=45)\n",
    "plt.show()"
   ]
  },
  {
   "cell_type": "code",
   "execution_count": 166,
   "metadata": {},
   "outputs": [
    {
     "data": {
      "image/png": "[encoded data removed]",
      "text/plain": [
       "<Figure size 3000x2000 with 1 Axes>"
      ]
     },
     "metadata": {},
     "output_type": "display_data"
    }
   ],
   "source": [
    "# Aggregate lead source distribution\n",
    "lead_source_breakdown = data_cleaned['Lead Type Category'].value_counts()\n",
    "\n",
    "# Calculate percentages\n",
    "total_leads = lead_source_breakdown.sum()\n",
    "labels = [f\"{cat}\\n{val} ({val/total_leads*100:.1f}%)\" \n",
    "          for cat, val in zip(lead_source_breakdown.index, lead_source_breakdown.values)]\n",
    "\n",
    "# Define color palette\n",
    "colors = sns.color_palette(\"pastel\", len(lead_source_breakdown))\n",
    "\n",
    "# Plot treemap\n",
    "plt.figure(figsize=(30, 20))\n",
    "squarify.plot(sizes=lead_source_breakdown.values, \n",
    "              label=labels, \n",
    "              alpha=0.8, \n",
    "              color=colors, \n",
    "              text_kwargs={'fontsize': 10})\n",
    "\n",
    "# Title and formatting\n",
    "plt.title(\"Lead Source Breakdown - Treemap\", fontsize=14)\n",
    "plt.axis(\"off\")  # Hide axes\n",
    "plt.show()\n"
   ]
  },
  {
   "cell_type": "markdown",
   "metadata": {},
   "source": [
    "### **🔄 Funnel Performance & Conversion Rates**  \n",
    "- Analyze **conversion rates** across the stages: **Signup → MQL → Demo → Paid**.  \n",
    "- Identify **bottlenecks** and measure **average time per stage**.  \n",
    "- **Charts:** Funnel Chart, Box Plot (Conversion Time), Cohort Analysis.  "
   ]
  },
  {
   "cell_type": "code",
   "execution_count": 167,
   "metadata": {},
   "outputs": [
    {
     "name": "stdout",
     "output_type": "stream",
     "text": [
      "Conversion Rates:\n",
      "{'Signup → MQL': '36.26%', 'MQL → Demo': '30.11%', 'Demo → Paid': '116.33%'}\n"
     ]
    }
   ],
   "source": [
    "# Count leads at each stage\n",
    "total_signups = data_cleaned['Signup Timestamp Date'].notna().sum()\n",
    "total_mqls = data_cleaned['Conversion to Mql Timestamp Date'].notna().sum()\n",
    "total_demos = data_cleaned['First Demo Date Date'].notna().sum()\n",
    "total_paid = data_cleaned['Conversion to Paid Timestamp Date'].notna().sum()\n",
    "\n",
    "# Calculate conversion rates\n",
    "mql_rate = total_mqls / total_signups * 100 if total_signups else 0\n",
    "demo_rate = total_demos / total_mqls * 100 if total_mqls else 0\n",
    "paid_rate = total_paid / total_demos * 100 if total_demos else 0\n",
    "\n",
    "# Display results\n",
    "conversion_rates = {\n",
    "    \"Signup → MQL\": f\"{mql_rate:.2f}%\",\n",
    "    \"MQL → Demo\": f\"{demo_rate:.2f}%\",\n",
    "    \"Demo → Paid\": f\"{paid_rate:.2f}%\"\n",
    "}\n",
    "\n",
    "print(\"Conversion Rates:\")\n",
    "print(conversion_rates)\n"
   ]
  },
  {
   "cell_type": "markdown",
   "metadata": {},
   "source": [
    "The \"Demo → Paid\" conversion rate being more than 100% suggests that more users moved from the demo stage to the paid stage than the number of users who attended a demo. This could be due to \"Renewal Closed Won\" sales or other unknown factors. "
   ]
  },
  {
   "cell_type": "code",
   "execution_count": 168,
   "metadata": {},
   "outputs": [
    {
     "name": "stdout",
     "output_type": "stream",
     "text": [
      "Average Time Per Stage (Days):\n",
      "Time Signup → MQL     2.04\n",
      "Time MQL → Demo       3.45\n",
      "Time Demo → Paid     11.64\n",
      "dtype: float64\n"
     ]
    }
   ],
   "source": [
    "date_cols = [\n",
    "    'Signup Timestamp Date', \n",
    "    'Conversion to Mql Timestamp Date', \n",
    "    'First Demo Date Date', \n",
    "    'Conversion to Paid Timestamp Date'\n",
    "]\n",
    "data_cleaned[date_cols] = data_cleaned[date_cols].apply(pd.to_datetime, errors='coerce')\n",
    "\n",
    "# Calculate time differences\n",
    "data_cleaned['Time Signup → MQL'] = (data_cleaned['Conversion to Mql Timestamp Date'] - data_cleaned['Signup Timestamp Date']).dt.days\n",
    "data_cleaned['Time MQL → Demo'] = (data_cleaned['First Demo Date Date'] - data_cleaned['Conversion to Mql Timestamp Date']).dt.days\n",
    "data_cleaned['Time Demo → Paid'] = (data_cleaned['Conversion to Paid Timestamp Date'] - data_cleaned['First Demo Date Date']).dt.days\n",
    "\n",
    "# Compute average time per stage\n",
    "avg_time_per_stage = data_cleaned[['Time Signup → MQL', 'Time MQL → Demo', 'Time Demo → Paid']].mean().round(2)\n",
    "print(\"Average Time Per Stage (Days):\")\n",
    "print(avg_time_per_stage)"
   ]
  },
  {
   "cell_type": "code",
   "execution_count": 169,
   "metadata": {},
   "outputs": [
    {
     "data": {
      "application/vnd.plotly.v1+json": {
       "config": {
        "plotlyServerURL": "https://plot.ly"
       },
       "data": [
        {
         "textinfo": "value+percent initial",
         "type": "funnel",
         "x": [
          3591,
          1302,
          392,
          456
         ],
         "y": [
          "Signup",
          "MQL",
          "Demo",
          "Paid"
         ]
        }
       ],
       "layout": {
        "template": {
         "data": {
          "bar": [
           {
            "error_x": {
             "color": "#2a3f5f"
            },
            "error_y": {
             "color": "#2a3f5f"
            },
            "marker": {
             "line": {
              "color": "#E5ECF6",
              "width": 0.5
             },
             "pattern": {
              "fillmode": "overlay",
              "size": 10,
              "solidity": 0.2
             }
            },
            "type": "bar"
           }
          ],
          "barpolar": [
           {
            "marker": {
             "line": {
              "color": "#E5ECF6",
              "width": 0.5
             },
             "pattern": {
              "fillmode": "overlay",
              "size": 10,
              "solidity": 0.2
             }
            },
            "type": "barpolar"
           }
          ],
          "carpet": [
           {
            "aaxis": {
             "endlinecolor": "#2a3f5f",
             "gridcolor": "white",
             "linecolor": "white",
             "minorgridcolor": "white",
             "startlinecolor": "#2a3f5f"
            },
            "baxis": {
             "endlinecolor": "#2a3f5f",
             "gridcolor": "white",
             "linecolor": "white",
             "minorgridcolor": "white",
             "startlinecolor": "#2a3f5f"
            },
            "type": "carpet"
           }
          ],
          "choropleth": [
           {
            "colorbar": {
             "outlinewidth": 0,
             "ticks": ""
            },
            "type": "choropleth"
           }
          ],
          "contour": [
           {
            "colorbar": {
             "outlinewidth": 0,
             "ticks": ""
            },
            "colorscale": [
             [
              0,
              "#0d0887"
             ],
             [
              0.1111111111111111,
              "#46039f"
             ],
             [
              0.2222222222222222,
              "#7201a8"
             ],
             [
              0.3333333333333333,
              "#9c179e"
             ],
             [
              0.4444444444444444,
              "#bd3786"
             ],
             [
              0.5555555555555556,
              "#d8576b"
             ],
             [
              0.6666666666666666,
              "#ed7953"
             ],
             [
              0.7777777777777778,
              "#fb9f3a"
             ],
             [
              0.8888888888888888,
              "#fdca26"
             ],
             [
              1,
              "#f0f921"
             ]
            ],
            "type": "contour"
           }
          ],
          "contourcarpet": [
           {
            "colorbar": {
             "outlinewidth": 0,
             "ticks": ""
            },
            "type": "contourcarpet"
           }
          ],
          "heatmap": [
           {
            "colorbar": {
             "outlinewidth": 0,
             "ticks": ""
            },
            "colorscale": [
             [
              0,
              "#0d0887"
             ],
             [
              0.1111111111111111,
              "#46039f"
             ],
             [
              0.2222222222222222,
              "#7201a8"
             ],
             [
              0.3333333333333333,
              "#9c179e"
             ],
             [
              0.4444444444444444,
              "#bd3786"
             ],
             [
              0.5555555555555556,
              "#d8576b"
             ],
             [
              0.6666666666666666,
              "#ed7953"
             ],
             [
              0.7777777777777778,
              "#fb9f3a"
             ],
             [
              0.8888888888888888,
              "#fdca26"
             ],
             [
              1,
              "#f0f921"
             ]
            ],
            "type": "heatmap"
           }
          ],
          "heatmapgl": [
           {
            "colorbar": {
             "outlinewidth": 0,
             "ticks": ""
            },
            "colorscale": [
             [
              0,
              "#0d0887"
             ],
             [
              0.1111111111111111,
              "#46039f"
             ],
             [
              0.2222222222222222,
              "#7201a8"
             ],
             [
              0.3333333333333333,
              "#9c179e"
             ],
             [
              0.4444444444444444,
              "#bd3786"
             ],
             [
              0.5555555555555556,
              "#d8576b"
             ],
             [
              0.6666666666666666,
              "#ed7953"
             ],
             [
              0.7777777777777778,
              "#fb9f3a"
             ],
             [
              0.8888888888888888,
              "#fdca26"
             ],
             [
              1,
              "#f0f921"
             ]
            ],
            "type": "heatmapgl"
           }
          ],
          "histogram": [
           {
            "marker": {
             "pattern": {
              "fillmode": "overlay",
              "size": 10,
              "solidity": 0.2
             }
            },
            "type": "histogram"
           }
          ],
          "histogram2d": [
           {
            "colorbar": {
             "outlinewidth": 0,
             "ticks": ""
            },
            "colorscale": [
             [
              0,
              "#0d0887"
             ],
             [
              0.1111111111111111,
              "#46039f"
             ],
             [
              0.2222222222222222,
              "#7201a8"
             ],
             [
              0.3333333333333333,
              "#9c179e"
             ],
             [
              0.4444444444444444,
              "#bd3786"
             ],
             [
              0.5555555555555556,
              "#d8576b"
             ],
             [
              0.6666666666666666,
              "#ed7953"
             ],
             [
              0.7777777777777778,
              "#fb9f3a"
             ],
             [
              0.8888888888888888,
              "#fdca26"
             ],
             [
              1,
              "#f0f921"
             ]
            ],
            "type": "histogram2d"
           }
          ],
          "histogram2dcontour": [
           {
            "colorbar": {
             "outlinewidth": 0,
             "ticks": ""
            },
            "colorscale": [
             [
              0,
              "#0d0887"
             ],
             [
              0.1111111111111111,
              "#46039f"
             ],
             [
              0.2222222222222222,
              "#7201a8"
             ],
             [
              0.3333333333333333,
              "#9c179e"
             ],
             [
              0.4444444444444444,
              "#bd3786"
             ],
             [
              0.5555555555555556,
              "#d8576b"
             ],
             [
              0.6666666666666666,
              "#ed7953"
             ],
             [
              0.7777777777777778,
              "#fb9f3a"
             ],
             [
              0.8888888888888888,
              "#fdca26"
             ],
             [
              1,
              "#f0f921"
             ]
            ],
            "type": "histogram2dcontour"
           }
          ],
          "mesh3d": [
           {
            "colorbar": {
             "outlinewidth": 0,
             "ticks": ""
            },
            "type": "mesh3d"
           }
          ],
          "parcoords": [
           {
            "line": {
             "colorbar": {
              "outlinewidth": 0,
              "ticks": ""
             }
            },
            "type": "parcoords"
           }
          ],
          "pie": [
           {
            "automargin": true,
            "type": "pie"
           }
          ],
          "scatter": [
           {
            "fillpattern": {
             "fillmode": "overlay",
             "size": 10,
             "solidity": 0.2
            },
            "type": "scatter"
           }
          ],
          "scatter3d": [
           {
            "line": {
             "colorbar": {
              "outlinewidth": 0,
              "ticks": ""
             }
            },
            "marker": {
             "colorbar": {
              "outlinewidth": 0,
              "ticks": ""
             }
            },
            "type": "scatter3d"
           }
          ],
          "scattercarpet": [
           {
            "marker": {
             "colorbar": {
              "outlinewidth": 0,
              "ticks": ""
             }
            },
            "type": "scattercarpet"
           }
          ],
          "scattergeo": [
           {
            "marker": {
             "colorbar": {
              "outlinewidth": 0,
              "ticks": ""
             }
            },
            "type": "scattergeo"
           }
          ],
          "scattergl": [
           {
            "marker": {
             "colorbar": {
              "outlinewidth": 0,
              "ticks": ""
             }
            },
            "type": "scattergl"
           }
          ],
          "scattermapbox": [
           {
            "marker": {
             "colorbar": {
              "outlinewidth": 0,
              "ticks": ""
             }
            },
            "type": "scattermapbox"
           }
          ],
          "scatterpolar": [
           {
            "marker": {
             "colorbar": {
              "outlinewidth": 0,
              "ticks": ""
             }
            },
            "type": "scatterpolar"
           }
          ],
          "scatterpolargl": [
           {
            "marker": {
             "colorbar": {
              "outlinewidth": 0,
              "ticks": ""
             }
            },
            "type": "scatterpolargl"
           }
          ],
          "scatterternary": [
           {
            "marker": {
             "colorbar": {
              "outlinewidth": 0,
              "ticks": ""
             }
            },
            "type": "scatterternary"
           }
          ],
          "surface": [
           {
            "colorbar": {
             "outlinewidth": 0,
             "ticks": ""
            },
            "colorscale": [
             [
              0,
              "#0d0887"
             ],
             [
              0.1111111111111111,
              "#46039f"
             ],
             [
              0.2222222222222222,
              "#7201a8"
             ],
             [
              0.3333333333333333,
              "#9c179e"
             ],
             [
              0.4444444444444444,
              "#bd3786"
             ],
             [
              0.5555555555555556,
              "#d8576b"
             ],
             [
              0.6666666666666666,
              "#ed7953"
             ],
             [
              0.7777777777777778,
              "#fb9f3a"
             ],
             [
              0.8888888888888888,
              "#fdca26"
             ],
             [
              1,
              "#f0f921"
             ]
            ],
            "type": "surface"
           }
          ],
          "table": [
           {
            "cells": {
             "fill": {
              "color": "#EBF0F8"
             },
             "line": {
              "color": "white"
             }
            },
            "header": {
             "fill": {
              "color": "#C8D4E3"
             },
             "line": {
              "color": "white"
             }
            },
            "type": "table"
           }
          ]
         },
         "layout": {
          "annotationdefaults": {
           "arrowcolor": "#2a3f5f",
           "arrowhead": 0,
           "arrowwidth": 1
          },
          "autotypenumbers": "strict",
          "coloraxis": {
           "colorbar": {
            "outlinewidth": 0,
            "ticks": ""
           }
          },
          "colorscale": {
           "diverging": [
            [
             0,
             "#8e0152"
            ],
            [
             0.1,
             "#c51b7d"
            ],
            [
             0.2,
             "#de77ae"
            ],
            [
             0.3,
             "#f1b6da"
            ],
            [
             0.4,
             "#fde0ef"
            ],
            [
             0.5,
             "#f7f7f7"
            ],
            [
             0.6,
             "#e6f5d0"
            ],
            [
             0.7,
             "#b8e186"
            ],
            [
             0.8,
             "#7fbc41"
            ],
            [
             0.9,
             "#4d9221"
            ],
            [
             1,
             "#276419"
            ]
           ],
           "sequential": [
            [
             0,
             "#0d0887"
            ],
            [
             0.1111111111111111,
             "#46039f"
            ],
            [
             0.2222222222222222,
             "#7201a8"
            ],
            [
             0.3333333333333333,
             "#9c179e"
            ],
            [
             0.4444444444444444,
             "#bd3786"
            ],
            [
             0.5555555555555556,
             "#d8576b"
            ],
            [
             0.6666666666666666,
             "#ed7953"
            ],
            [
             0.7777777777777778,
             "#fb9f3a"
            ],
            [
             0.8888888888888888,
             "#fdca26"
            ],
            [
             1,
             "#f0f921"
            ]
           ],
           "sequentialminus": [
            [
             0,
             "#0d0887"
            ],
            [
             0.1111111111111111,
             "#46039f"
            ],
            [
             0.2222222222222222,
             "#7201a8"
            ],
            [
             0.3333333333333333,
             "#9c179e"
            ],
            [
             0.4444444444444444,
             "#bd3786"
            ],
            [
             0.5555555555555556,
             "#d8576b"
            ],
            [
             0.6666666666666666,
             "#ed7953"
            ],
            [
             0.7777777777777778,
             "#fb9f3a"
            ],
            [
             0.8888888888888888,
             "#fdca26"
            ],
            [
             1,
             "#f0f921"
            ]
           ]
          },
          "colorway": [
           "#636efa",
           "#EF553B",
           "#00cc96",
           "#ab63fa",
           "#FFA15A",
           "#19d3f3",
           "#FF6692",
           "#B6E880",
           "#FF97FF",
           "#FECB52"
          ],
          "font": {
           "color": "#2a3f5f"
          },
          "geo": {
           "bgcolor": "white",
           "lakecolor": "white",
           "landcolor": "#E5ECF6",
           "showlakes": true,
           "showland": true,
           "subunitcolor": "white"
          },
          "hoverlabel": {
           "align": "left"
          },
          "hovermode": "closest",
          "mapbox": {
           "style": "light"
          },
          "paper_bgcolor": "white",
          "plot_bgcolor": "#E5ECF6",
          "polar": {
           "angularaxis": {
            "gridcolor": "white",
            "linecolor": "white",
            "ticks": ""
           },
           "bgcolor": "#E5ECF6",
           "radialaxis": {
            "gridcolor": "white",
            "linecolor": "white",
            "ticks": ""
           }
          },
          "scene": {
           "xaxis": {
            "backgroundcolor": "#E5ECF6",
            "gridcolor": "white",
            "gridwidth": 2,
            "linecolor": "white",
            "showbackground": true,
            "ticks": "",
            "zerolinecolor": "white"
           },
           "yaxis": {
            "backgroundcolor": "#E5ECF6",
            "gridcolor": "white",
            "gridwidth": 2,
            "linecolor": "white",
            "showbackground": true,
            "ticks": "",
            "zerolinecolor": "white"
           },
           "zaxis": {
            "backgroundcolor": "#E5ECF6",
            "gridcolor": "white",
            "gridwidth": 2,
            "linecolor": "white",
            "showbackground": true,
            "ticks": "",
            "zerolinecolor": "white"
           }
          },
          "shapedefaults": {
           "line": {
            "color": "#2a3f5f"
           }
          },
          "ternary": {
           "aaxis": {
            "gridcolor": "white",
            "linecolor": "white",
            "ticks": ""
           },
           "baxis": {
            "gridcolor": "white",
            "linecolor": "white",
            "ticks": ""
           },
           "bgcolor": "#E5ECF6",
           "caxis": {
            "gridcolor": "white",
            "linecolor": "white",
            "ticks": ""
           }
          },
          "title": {
           "x": 0.05
          },
          "xaxis": {
           "automargin": true,
           "gridcolor": "white",
           "linecolor": "white",
           "ticks": "",
           "title": {
            "standoff": 15
           },
           "zerolinecolor": "white",
           "zerolinewidth": 2
          },
          "yaxis": {
           "automargin": true,
           "gridcolor": "white",
           "linecolor": "white",
           "ticks": "",
           "title": {
            "standoff": 15
           },
           "zerolinecolor": "white",
           "zerolinewidth": 2
          }
         }
        },
        "title": {
         "text": "Lead Funnel Performance"
        }
       }
      }
     },
     "metadata": {},
     "output_type": "display_data"
    }
   ],
   "source": [
    "import plotly.graph_objects as go\n",
    "\n",
    "# Define funnel values\n",
    "stages = ['Signup', 'MQL', 'Demo', 'Paid']\n",
    "values = [total_signups, total_mqls, total_demos, total_paid]\n",
    "\n",
    "# Create funnel chart\n",
    "fig = go.Figure(go.Funnel(\n",
    "    y=stages,\n",
    "    x=values,\n",
    "    textinfo=\"value+percent initial\"\n",
    "))\n",
    "\n",
    "fig.update_layout(title=\"Lead Funnel Performance\")\n",
    "fig.show()"
   ]
  },
  {
   "cell_type": "code",
   "execution_count": 170,
   "metadata": {},
   "outputs": [
    {
     "data": {
      "image/png": "[encoded data removed]",
      "text/plain": [
       "<Figure size 1000x500 with 1 Axes>"
      ]
     },
     "metadata": {},
     "output_type": "display_data"
    }
   ],
   "source": [
    "# Convert 'Signup Timestamp Date' to datetime if not already\n",
    "data_cleaned['Signup Timestamp Date'] = pd.to_datetime(data_cleaned['Signup Timestamp Date'], errors='coerce')\n",
    "\n",
    "# Extract Year-Month-Day for signup date\n",
    "data_cleaned['Signup Date'] = data_cleaned['Signup Timestamp Date'].dt.date\n",
    "\n",
    "# Count how many signups converted to Paid each day\n",
    "cohort_data = data_cleaned.groupby('Signup Date')['Conversion to Paid Timestamp Date'].count()\n",
    "\n",
    "# Plot cohort retention\n",
    "plt.figure(figsize=(10, 5))\n",
    "cohort_data.plot(kind='bar', color='steelblue')\n",
    "plt.title(\"Cohort Analysis: Leads Who Converted to Paid Over Time\")\n",
    "plt.ylabel(\"Number of Paid Conversions\")\n",
    "plt.xlabel(\"Signup Date\")\n",
    "plt.xticks(rotation=45)\n",
    "plt.show()"
   ]
  },
  {
   "cell_type": "markdown",
   "metadata": {},
   "source": [
    "### **🏢 Industry & Company Size Breakdown**  \n",
    "- Identify **top-performing industries** and their conversion rates.  \n",
    "- Analyze how **company size** impacts lead conversion.  \n",
    "- **Charts:** Industry vs. Conversion Rate, Employee Count Breakdown.  "
   ]
  },
  {
   "cell_type": "code",
   "execution_count": 171,
   "metadata": {},
   "outputs": [
    {
     "data": {
      "image/png": "[encoded data removed]",
      "text/plain": [
       "<Figure size 1200x600 with 1 Axes>"
      ]
     },
     "metadata": {},
     "output_type": "display_data"
    },
    {
     "data": {
      "image/png": "[encoded data removed]",
      "text/plain": [
       "<Figure size 1200x600 with 1 Axes>"
      ]
     },
     "metadata": {},
     "output_type": "display_data"
    }
   ],
   "source": [
    "# Ensure 'Num of Employees' is a numeric column (it may be read as a string)\n",
    "data_cleaned['Num of Employees'] = pd.to_numeric(data_cleaned['Num of Employees'], errors='coerce')\n",
    "\n",
    "# 1. Calculate conversion rates by industry\n",
    "industry_conversion_rate = data_cleaned.groupby('Industry').apply(\n",
    "    lambda x: x['Conversion to Paid Timestamp Date'].notna().sum() / x['Signup Timestamp Date'].notna().sum()\n",
    ").reset_index(name='Conversion Rate')\n",
    "\n",
    "# Sort by conversion rate for top-performing industries\n",
    "industry_conversion_rate = industry_conversion_rate.sort_values(by='Conversion Rate', ascending=False)\n",
    "\n",
    "# Plot Industry vs Conversion Rate\n",
    "plt.figure(figsize=(12, 6))\n",
    "sns.barplot(x='Conversion Rate', y='Industry', data=industry_conversion_rate, palette='viridis')\n",
    "plt.title(\"Top Performing Industries by Conversion Rate\")\n",
    "plt.xlabel(\"Conversion Rate\")\n",
    "plt.ylabel(\"Industry\")\n",
    "plt.show()\n",
    "\n",
    "# 2. Analyze company size impact (Employee Count vs Conversion Rate)\n",
    "# First, create bins for company sizes\n",
    "size_bins = [0, 50, 100, 500, 1000, 5000, 10000, float('inf')]\n",
    "size_labels = ['1-50', '51-100', '101-500', '501-1000', '1001-5000', '5001-10000', '10000+']\n",
    "data_cleaned['Employee Size Group'] = pd.cut(data_cleaned['Num of Employees'], bins=size_bins, labels=size_labels)\n",
    "\n",
    "# Calculate conversion rates by employee size\n",
    "employee_size_conversion_rate = data_cleaned.groupby('Employee Size Group').apply(\n",
    "    lambda x: x['Conversion to Paid Timestamp Date'].notna().sum() / x['Signup Timestamp Date'].notna().sum()\n",
    ").reset_index(name='Conversion Rate')\n",
    "\n",
    "# Plot Employee Size Breakdown\n",
    "plt.figure(figsize=(12, 6))\n",
    "sns.barplot(x='Employee Size Group', y='Conversion Rate', data=employee_size_conversion_rate, palette='Blues')\n",
    "plt.title(\"Conversion Rate by Company Size\")\n",
    "plt.xlabel(\"Employee Size Group\")\n",
    "plt.ylabel(\"Conversion Rate\")\n",
    "plt.show()"
   ]
  },
  {
   "cell_type": "markdown",
   "metadata": {},
   "source": [
    "**Note Regarding Employee Size Group and conversion rate.**\n",
    "\n",
    "Only 2 leads with employee sizess of 3000 out of 134 leads with 3000 employees converted to paid."
   ]
  },
  {
   "cell_type": "markdown",
   "metadata": {},
   "source": [
    "### **💰 ARR & Revenue Impact**  \n",
    "- Examine **ARR distribution** across lead segments.  \n",
    "- Detect correlation between **deal size and conversion time**.  \n",
    "- **Charts:** Histogram (ARR Distribution), Scatter Plot (ARR vs. Conversion Time). "
   ]
  },
  {
   "cell_type": "code",
   "execution_count": 174,
   "metadata": {},
   "outputs": [
    {
     "data": {
      "image/png": "[encoded data removed]",
      "text/plain": [
       "<Figure size 1200x600 with 1 Axes>"
      ]
     },
     "metadata": {},
     "output_type": "display_data"
    },
    {
     "data": {
      "image/png": "[encoded data removed]",
      "text/plain": [
       "<Figure size 1200x600 with 1 Axes>"
      ]
     },
     "metadata": {},
     "output_type": "display_data"
    },
    {
     "data": {
      "image/png": "[encoded data removed]",
      "text/plain": [
       "<Figure size 1200x600 with 1 Axes>"
      ]
     },
     "metadata": {},
     "output_type": "display_data"
    },
    {
     "name": "stdout",
     "output_type": "stream",
     "text": [
      "Correlation between ARR and Conversion Time: -0.10688481026242498\n"
     ]
    }
   ],
   "source": [
    "# Ensure ARR is numeric (if needed)\n",
    "data_cleaned['Arr At Conversion'] = pd.to_numeric(data_cleaned['Arr At Conversion'], errors='coerce')\n",
    "\n",
    "# 1. ARR Distribution by Lead Segment\n",
    "# First, define segments based on your lead characteristics, e.g., industry or employee size\n",
    "# For simplicity, using 'Employee Size Group' as the lead segment\n",
    "\n",
    "# Plot ARR Distribution by Lead Segment\n",
    "plt.figure(figsize=(12, 6))\n",
    "sns.histplot(data_cleaned, x='Arr At Conversion', hue='Employee Size Group', multiple=\"stack\", kde=True, palette='magma', bins=30)\n",
    "plt.title(\"ARR Distribution Across Lead Segments\")\n",
    "plt.xlabel(\"ARR at Conversion\")\n",
    "plt.ylabel(\"Frequency\")\n",
    "plt.show()\n",
    "\n",
    "# 2. Correlation Between Deal Size (ARR) and Conversion Time\n",
    "# Calculate conversion time (time taken to convert to paid) \n",
    "# Assuming 'Signup Timestamp Date' and 'Conversion to Paid Timestamp Date' are datetime columns\n",
    "\n",
    "data_cleaned['Conversion Time (days)'] = (data_cleaned['Conversion to Paid Timestamp Date'] - data_cleaned['Signup Timestamp Date']).dt.days\n",
    "\n",
    "# Scatter plot to show the relationship between ARR and Conversion Time\n",
    "plt.figure(figsize=(12, 6))\n",
    "sns.scatterplot(x='Arr At Conversion', y='Conversion Time (days)', data=data_cleaned, hue='Employee Size Group', palette='magma', alpha=0.6)\n",
    "plt.title(\"ARR vs. Conversion Time\")\n",
    "plt.xlabel(\"ARR at Conversion\")\n",
    "plt.ylabel(\"Conversion Time (days)\")\n",
    "plt.show()\n",
    "\n",
    "# 3. Shows average ARR per company interest\n",
    "# Aggregate ARR by Main Company Interest\n",
    "arr_by_interest = data_cleaned.groupby('Main Company Interest')['Arr At Conversion'].mean().reset_index()\n",
    "\n",
    "# Plot\n",
    "plt.figure(figsize=(12, 6))\n",
    "sns.barplot(data=arr_by_interest, x='Main Company Interest', y='Arr At Conversion', palette='viridis')\n",
    "plt.xticks(rotation=45)\n",
    "plt.title(\"Average ARR by Main Company Interest\")\n",
    "plt.xlabel(\"Main Company Interest\")\n",
    "plt.ylabel(\"Average ARR at Conversion\")\n",
    "plt.show()\n",
    "\n",
    "\n",
    "# Correlation between ARR and Conversion Time\n",
    "correlation = data_cleaned[['Arr At Conversion', 'Conversion Time (days)']].corr().iloc[0, 1]\n",
    "print(f\"Correlation between ARR and Conversion Time: {correlation}\")"
   ]
  },
  {
   "cell_type": "markdown",
   "metadata": {},
   "source": [
    "### Correlation Between ARR and Conversion Time\n",
    "\n",
    "The correlation value of **-0.107** means there is a slight negative correlation between **ARR** (Annual Recurring Revenue) and **Conversion Time** (the time it takes for a lead to convert to a paid customer).\n",
    "\n",
    "#### Here's what that implies:\n",
    "\n",
    "- **Negative Correlation**: As one variable increases, the other tends to decrease. In this case, as ARR increases, the time it takes for leads to convert (Conversion Time) tends to decrease, although this relationship is weak.\n",
    "\n",
    "- **Magnitude of the Correlation**: The value of **-0.107** is very close to 0, which indicates a **weak** relationship between ARR and Conversion Time. The closer the correlation value is to -1 or 1, the stronger the relationship. Since it's closer to 0, it suggests that ARR and Conversion Time don't have a strong linear relationship.\n",
    "\n",
    "#### In simple terms:\n",
    "There is a slight tendency for larger deals (higher ARR) to convert slightly faster, but the correlation is weak enough that it's not a major pattern in the data."
   ]
  },
  {
   "cell_type": "markdown",
   "metadata": {},
   "source": [
    "### **🌍 Regional Performance**  \n",
    "- Compare **lead volume and conversion rates** across different countries/regions.  \n",
    "- Assess **regional variations in sales cycles**.  \n",
    "- **Charts:** Heatmap (Leads & Conversions), Region vs. Conversion Rate.  "
   ]
  },
  {
   "cell_type": "code",
   "execution_count": 173,
   "metadata": {},
   "outputs": [
    {
     "data": {
      "application/vnd.plotly.v1+json": {
       "config": {
        "plotlyServerURL": "https://plot.ly"
       },
       "data": [
        {
         "coloraxis": "coloraxis",
         "geo": "geo",
         "hovertemplate": "<b>%{hovertext}</b><br><br>Country=%{location}<br>Lead Volume=%{z}<extra></extra>",
         "hovertext": [
          "Afghanistan",
          "Algeria",
          "Argentina",
          "Australia",
          "Austria",
          "Bahamas",
          "Bahrain",
          "Bangladesh",
          "Barbados",
          "Belgium",
          "Botswana",
          "Brazil",
          "Bulgaria",
          "Cambodia",
          "Cameroon",
          "Canada",
          "Chile",
          "China",
          "Colombia",
          "Croatia",
          "Cyprus",
          "Czechia",
          "C√¥te d'Ivoire",
          "Denmark",
          "Dominican Republic",
          "Ecuador",
          "Egypt",
          "El Salvador",
          "Estonia",
          "Eswatini",
          "Ethiopia",
          "Finland",
          "France",
          "Georgia",
          "Germany",
          "Ghana",
          "Greece",
          "Guam",
          "Guernsey",
          "Guyana",
          "Haiti",
          "Hong Kong",
          "Hungary",
          "Iceland",
          "India",
          "Indonesia",
          "Iraq",
          "Ireland",
          "Isle of Man",
          "Israel",
          "Italy",
          "Jamaica",
          "Japan",
          "Jordan",
          "Kazakhstan",
          "Kenya",
          "Kiribati",
          "Kuwait",
          "Lebanon",
          "Libya",
          "Lithuania",
          "Luxembourg",
          "Malaysia",
          "Malta",
          "Mauritius",
          "Mexico",
          "Moldova, Republic of",
          "Mongolia",
          "Morocco",
          "Myanmar",
          "Namibia",
          "Nepal",
          "Netherlands",
          "New Zealand",
          "Nigeria",
          "North Macedonia",
          "Northern Mariana Islands",
          "Norway",
          "Oman",
          "Pakistan",
          "Palestine, State of",
          "Panama",
          "Papua New Guinea",
          "Peru",
          "Philippines",
          "Poland",
          "Portugal",
          "Puerto Rico",
          "Qatar",
          "Romania",
          "Russian Federation",
          "Rwanda",
          "Saudi Arabia",
          "Senegal",
          "Serbia",
          "Sierra Leone",
          "Singapore",
          "Slovakia",
          "Slovenia",
          "South Africa",
          "Spain",
          "Sri Lanka",
          "Suriname",
          "Sweden",
          "Switzerland",
          "Syrian Arab Republic",
          "Taiwan, Province of China",
          "Tanzania, United Republic of",
          "Thailand",
          "Trinidad and Tobago",
          "Tunisia",
          "Turkey",
          "Uganda",
          "Ukraine",
          "United Arab Emirates",
          "United Kingdom",
          "United States of America",
          "Uzbekistan",
          "Viet Nam",
          "Virgin Islands, British",
          "Western Sahara",
          "XK",
          "Yemen",
          "Zambia",
          "Zimbabwe",
          "an"
         ],
         "locationmode": "country names",
         "locations": [
          "Afghanistan",
          "Algeria",
          "Argentina",
          "Australia",
          "Austria",
          "Bahamas",
          "Bahrain",
          "Bangladesh",
          "Barbados",
          "Belgium",
          "Botswana",
          "Brazil",
          "Bulgaria",
          "Cambodia",
          "Cameroon",
          "Canada",
          "Chile",
          "China",
          "Colombia",
          "Croatia",
          "Cyprus",
          "Czechia",
          "C√¥te d'Ivoire",
          "Denmark",
          "Dominican Republic",
          "Ecuador",
          "Egypt",
          "El Salvador",
          "Estonia",
          "Eswatini",
          "Ethiopia",
          "Finland",
          "France",
          "Georgia",
          "Germany",
          "Ghana",
          "Greece",
          "Guam",
          "Guernsey",
          "Guyana",
          "Haiti",
          "Hong Kong",
          "Hungary",
          "Iceland",
          "India",
          "Indonesia",
          "Iraq",
          "Ireland",
          "Isle of Man",
          "Israel",
          "Italy",
          "Jamaica",
          "Japan",
          "Jordan",
          "Kazakhstan",
          "Kenya",
          "Kiribati",
          "Kuwait",
          "Lebanon",
          "Libya",
          "Lithuania",
          "Luxembourg",
          "Malaysia",
          "Malta",
          "Mauritius",
          "Mexico",
          "Moldova, Republic of",
          "Mongolia",
          "Morocco",
          "Myanmar",
          "Namibia",
          "Nepal",
          "Netherlands",
          "New Zealand",
          "Nigeria",
          "North Macedonia",
          "Northern Mariana Islands",
          "Norway",
          "Oman",
          "Pakistan",
          "Palestine, State of",
          "Panama",
          "Papua New Guinea",
          "Peru",
          "Philippines",
          "Poland",
          "Portugal",
          "Puerto Rico",
          "Qatar",
          "Romania",
          "Russian Federation",
          "Rwanda",
          "Saudi Arabia",
          "Senegal",
          "Serbia",
          "Sierra Leone",
          "Singapore",
          "Slovakia",
          "Slovenia",
          "South Africa",
          "Spain",
          "Sri Lanka",
          "Suriname",
          "Sweden",
          "Switzerland",
          "Syrian Arab Republic",
          "Taiwan, Province of China",
          "Tanzania, United Republic of",
          "Thailand",
          "Trinidad and Tobago",
          "Tunisia",
          "Turkey",
          "Uganda",
          "Ukraine",
          "United Arab Emirates",
          "United Kingdom",
          "United States of America",
          "Uzbekistan",
          "Viet Nam",
          "Virgin Islands, British",
          "Western Sahara",
          "XK",
          "Yemen",
          "Zambia",
          "Zimbabwe",
          "an"
         ],
         "name": "",
         "type": "choropleth",
         "z": [
          1,
          2,
          8,
          193,
          2,
          2,
          4,
          12,
          3,
          8,
          2,
          33,
          9,
          2,
          3,
          205,
          6,
          1,
          2,
          4,
          7,
          2,
          2,
          5,
          4,
          2,
          12,
          1,
          4,
          1,
          5,
          3,
          24,
          3,
          31,
          4,
          9,
          2,
          2,
          1,
          2,
          7,
          6,
          2,
          77,
          24,
          3,
          31,
          1,
          40,
          12,
          2,
          3,
          2,
          3,
          3,
          1,
          7,
          2,
          1,
          2,
          2,
          11,
          6,
          1,
          32,
          1,
          1,
          4,
          2,
          1,
          3,
          27,
          33,
          18,
          1,
          1,
          7,
          5,
          14,
          1,
          5,
          1,
          11,
          109,
          10,
          16,
          5,
          10,
          7,
          1,
          1,
          36,
          1,
          6,
          1,
          38,
          4,
          3,
          69,
          16,
          5,
          3,
          6,
          9,
          1,
          6,
          1,
          4,
          5,
          1,
          6,
          1,
          5,
          60,
          310,
          1766,
          3,
          9,
          1,
          3,
          1,
          2,
          3,
          1,
          1
         ]
        }
       ],
       "layout": {
        "coloraxis": {
         "colorbar": {
          "title": {
           "text": "Lead Volume"
          }
         },
         "colorscale": [
          [
           0,
           "#440154"
          ],
          [
           0.1111111111111111,
           "#482878"
          ],
          [
           0.2222222222222222,
           "#3e4989"
          ],
          [
           0.3333333333333333,
           "#31688e"
          ],
          [
           0.4444444444444444,
           "#26828e"
          ],
          [
           0.5555555555555556,
           "#1f9e89"
          ],
          [
           0.6666666666666666,
           "#35b779"
          ],
          [
           0.7777777777777778,
           "#6ece58"
          ],
          [
           0.8888888888888888,
           "#b5de2b"
          ],
          [
           1,
           "#fde725"
          ]
         ]
        },
        "geo": {
         "center": {},
         "domain": {
          "x": [
           0,
           1
          ],
          "y": [
           0,
           1
          ]
         }
        },
        "legend": {
         "tracegroupgap": 0
        },
        "margin": {
         "t": 60
        },
        "template": {
         "data": {
          "bar": [
           {
            "error_x": {
             "color": "#2a3f5f"
            },
            "error_y": {
             "color": "#2a3f5f"
            },
            "marker": {
             "line": {
              "color": "#E5ECF6",
              "width": 0.5
             },
             "pattern": {
              "fillmode": "overlay",
              "size": 10,
              "solidity": 0.2
             }
            },
            "type": "bar"
           }
          ],
          "barpolar": [
           {
            "marker": {
             "line": {
              "color": "#E5ECF6",
              "width": 0.5
             },
             "pattern": {
              "fillmode": "overlay",
              "size": 10,
              "solidity": 0.2
             }
            },
            "type": "barpolar"
           }
          ],
          "carpet": [
           {
            "aaxis": {
             "endlinecolor": "#2a3f5f",
             "gridcolor": "white",
             "linecolor": "white",
             "minorgridcolor": "white",
             "startlinecolor": "#2a3f5f"
            },
            "baxis": {
             "endlinecolor": "#2a3f5f",
             "gridcolor": "white",
             "linecolor": "white",
             "minorgridcolor": "white",
             "startlinecolor": "#2a3f5f"
            },
            "type": "carpet"
           }
          ],
          "choropleth": [
           {
            "colorbar": {
             "outlinewidth": 0,
             "ticks": ""
            },
            "type": "choropleth"
           }
          ],
          "contour": [
           {
            "colorbar": {
             "outlinewidth": 0,
             "ticks": ""
            },
            "colorscale": [
             [
              0,
              "#0d0887"
             ],
             [
              0.1111111111111111,
              "#46039f"
             ],
             [
              0.2222222222222222,
              "#7201a8"
             ],
             [
              0.3333333333333333,
              "#9c179e"
             ],
             [
              0.4444444444444444,
              "#bd3786"
             ],
             [
              0.5555555555555556,
              "#d8576b"
             ],
             [
              0.6666666666666666,
              "#ed7953"
             ],
             [
              0.7777777777777778,
              "#fb9f3a"
             ],
             [
              0.8888888888888888,
              "#fdca26"
             ],
             [
              1,
              "#f0f921"
             ]
            ],
            "type": "contour"
           }
          ],
          "contourcarpet": [
           {
            "colorbar": {
             "outlinewidth": 0,
             "ticks": ""
            },
            "type": "contourcarpet"
           }
          ],
          "heatmap": [
           {
            "colorbar": {
             "outlinewidth": 0,
             "ticks": ""
            },
            "colorscale": [
             [
              0,
              "#0d0887"
             ],
             [
              0.1111111111111111,
              "#46039f"
             ],
             [
              0.2222222222222222,
              "#7201a8"
             ],
             [
              0.3333333333333333,
              "#9c179e"
             ],
             [
              0.4444444444444444,
              "#bd3786"
             ],
             [
              0.5555555555555556,
              "#d8576b"
             ],
             [
              0.6666666666666666,
              "#ed7953"
             ],
             [
              0.7777777777777778,
              "#fb9f3a"
             ],
             [
              0.8888888888888888,
              "#fdca26"
             ],
             [
              1,
              "#f0f921"
             ]
            ],
            "type": "heatmap"
           }
          ],
          "heatmapgl": [
           {
            "colorbar": {
             "outlinewidth": 0,
             "ticks": ""
            },
            "colorscale": [
             [
              0,
              "#0d0887"
             ],
             [
              0.1111111111111111,
              "#46039f"
             ],
             [
              0.2222222222222222,
              "#7201a8"
             ],
             [
              0.3333333333333333,
              "#9c179e"
             ],
             [
              0.4444444444444444,
              "#bd3786"
             ],
             [
              0.5555555555555556,
              "#d8576b"
             ],
             [
              0.6666666666666666,
              "#ed7953"
             ],
             [
              0.7777777777777778,
              "#fb9f3a"
             ],
             [
              0.8888888888888888,
              "#fdca26"
             ],
             [
              1,
              "#f0f921"
             ]
            ],
            "type": "heatmapgl"
           }
          ],
          "histogram": [
           {
            "marker": {
             "pattern": {
              "fillmode": "overlay",
              "size": 10,
              "solidity": 0.2
             }
            },
            "type": "histogram"
           }
          ],
          "histogram2d": [
           {
            "colorbar": {
             "outlinewidth": 0,
             "ticks": ""
            },
            "colorscale": [
             [
              0,
              "#0d0887"
             ],
             [
              0.1111111111111111,
              "#46039f"
             ],
             [
              0.2222222222222222,
              "#7201a8"
             ],
             [
              0.3333333333333333,
              "#9c179e"
             ],
             [
              0.4444444444444444,
              "#bd3786"
             ],
             [
              0.5555555555555556,
              "#d8576b"
             ],
             [
              0.6666666666666666,
              "#ed7953"
             ],
             [
              0.7777777777777778,
              "#fb9f3a"
             ],
             [
              0.8888888888888888,
              "#fdca26"
             ],
             [
              1,
              "#f0f921"
             ]
            ],
            "type": "histogram2d"
           }
          ],
          "histogram2dcontour": [
           {
            "colorbar": {
             "outlinewidth": 0,
             "ticks": ""
            },
            "colorscale": [
             [
              0,
              "#0d0887"
             ],
             [
              0.1111111111111111,
              "#46039f"
             ],
             [
              0.2222222222222222,
              "#7201a8"
             ],
             [
              0.3333333333333333,
              "#9c179e"
             ],
             [
              0.4444444444444444,
              "#bd3786"
             ],
             [
              0.5555555555555556,
              "#d8576b"
             ],
             [
              0.6666666666666666,
              "#ed7953"
             ],
             [
              0.7777777777777778,
              "#fb9f3a"
             ],
             [
              0.8888888888888888,
              "#fdca26"
             ],
             [
              1,
              "#f0f921"
             ]
            ],
            "type": "histogram2dcontour"
           }
          ],
          "mesh3d": [
           {
            "colorbar": {
             "outlinewidth": 0,
             "ticks": ""
            },
            "type": "mesh3d"
           }
          ],
          "parcoords": [
           {
            "line": {
             "colorbar": {
              "outlinewidth": 0,
              "ticks": ""
             }
            },
            "type": "parcoords"
           }
          ],
          "pie": [
           {
            "automargin": true,
            "type": "pie"
           }
          ],
          "scatter": [
           {
            "fillpattern": {
             "fillmode": "overlay",
             "size": 10,
             "solidity": 0.2
            },
            "type": "scatter"
           }
          ],
          "scatter3d": [
           {
            "line": {
             "colorbar": {
              "outlinewidth": 0,
              "ticks": ""
             }
            },
            "marker": {
             "colorbar": {
              "outlinewidth": 0,
              "ticks": ""
             }
            },
            "type": "scatter3d"
           }
          ],
          "scattercarpet": [
           {
            "marker": {
             "colorbar": {
              "outlinewidth": 0,
              "ticks": ""
             }
            },
            "type": "scattercarpet"
           }
          ],
          "scattergeo": [
           {
            "marker": {
             "colorbar": {
              "outlinewidth": 0,
              "ticks": ""
             }
            },
            "type": "scattergeo"
           }
          ],
          "scattergl": [
           {
            "marker": {
             "colorbar": {
              "outlinewidth": 0,
              "ticks": ""
             }
            },
            "type": "scattergl"
           }
          ],
          "scattermapbox": [
           {
            "marker": {
             "colorbar": {
              "outlinewidth": 0,
              "ticks": ""
             }
            },
            "type": "scattermapbox"
           }
          ],
          "scatterpolar": [
           {
            "marker": {
             "colorbar": {
              "outlinewidth": 0,
              "ticks": ""
             }
            },
            "type": "scatterpolar"
           }
          ],
          "scatterpolargl": [
           {
            "marker": {
             "colorbar": {
              "outlinewidth": 0,
              "ticks": ""
             }
            },
            "type": "scatterpolargl"
           }
          ],
          "scatterternary": [
           {
            "marker": {
             "colorbar": {
              "outlinewidth": 0,
              "ticks": ""
             }
            },
            "type": "scatterternary"
           }
          ],
          "surface": [
           {
            "colorbar": {
             "outlinewidth": 0,
             "ticks": ""
            },
            "colorscale": [
             [
              0,
              "#0d0887"
             ],
             [
              0.1111111111111111,
              "#46039f"
             ],
             [
              0.2222222222222222,
              "#7201a8"
             ],
             [
              0.3333333333333333,
              "#9c179e"
             ],
             [
              0.4444444444444444,
              "#bd3786"
             ],
             [
              0.5555555555555556,
              "#d8576b"
             ],
             [
              0.6666666666666666,
              "#ed7953"
             ],
             [
              0.7777777777777778,
              "#fb9f3a"
             ],
             [
              0.8888888888888888,
              "#fdca26"
             ],
             [
              1,
              "#f0f921"
             ]
            ],
            "type": "surface"
           }
          ],
          "table": [
           {
            "cells": {
             "fill": {
              "color": "#EBF0F8"
             },
             "line": {
              "color": "white"
             }
            },
            "header": {
             "fill": {
              "color": "#C8D4E3"
             },
             "line": {
              "color": "white"
             }
            },
            "type": "table"
           }
          ]
         },
         "layout": {
          "annotationdefaults": {
           "arrowcolor": "#2a3f5f",
           "arrowhead": 0,
           "arrowwidth": 1
          },
          "autotypenumbers": "strict",
          "coloraxis": {
           "colorbar": {
            "outlinewidth": 0,
            "ticks": ""
           }
          },
          "colorscale": {
           "diverging": [
            [
             0,
             "#8e0152"
            ],
            [
             0.1,
             "#c51b7d"
            ],
            [
             0.2,
             "#de77ae"
            ],
            [
             0.3,
             "#f1b6da"
            ],
            [
             0.4,
             "#fde0ef"
            ],
            [
             0.5,
             "#f7f7f7"
            ],
            [
             0.6,
             "#e6f5d0"
            ],
            [
             0.7,
             "#b8e186"
            ],
            [
             0.8,
             "#7fbc41"
            ],
            [
             0.9,
             "#4d9221"
            ],
            [
             1,
             "#276419"
            ]
           ],
           "sequential": [
            [
             0,
             "#0d0887"
            ],
            [
             0.1111111111111111,
             "#46039f"
            ],
            [
             0.2222222222222222,
             "#7201a8"
            ],
            [
             0.3333333333333333,
             "#9c179e"
            ],
            [
             0.4444444444444444,
             "#bd3786"
            ],
            [
             0.5555555555555556,
             "#d8576b"
            ],
            [
             0.6666666666666666,
             "#ed7953"
            ],
            [
             0.7777777777777778,
             "#fb9f3a"
            ],
            [
             0.8888888888888888,
             "#fdca26"
            ],
            [
             1,
             "#f0f921"
            ]
           ],
           "sequentialminus": [
            [
             0,
             "#0d0887"
            ],
            [
             0.1111111111111111,
             "#46039f"
            ],
            [
             0.2222222222222222,
             "#7201a8"
            ],
            [
             0.3333333333333333,
             "#9c179e"
            ],
            [
             0.4444444444444444,
             "#bd3786"
            ],
            [
             0.5555555555555556,
             "#d8576b"
            ],
            [
             0.6666666666666666,
             "#ed7953"
            ],
            [
             0.7777777777777778,
             "#fb9f3a"
            ],
            [
             0.8888888888888888,
             "#fdca26"
            ],
            [
             1,
             "#f0f921"
            ]
           ]
          },
          "colorway": [
           "#636efa",
           "#EF553B",
           "#00cc96",
           "#ab63fa",
           "#FFA15A",
           "#19d3f3",
           "#FF6692",
           "#B6E880",
           "#FF97FF",
           "#FECB52"
          ],
          "font": {
           "color": "#2a3f5f"
          },
          "geo": {
           "bgcolor": "white",
           "lakecolor": "white",
           "landcolor": "#E5ECF6",
           "showlakes": true,
           "showland": true,
           "subunitcolor": "white"
          },
          "hoverlabel": {
           "align": "left"
          },
          "hovermode": "closest",
          "mapbox": {
           "style": "light"
          },
          "paper_bgcolor": "white",
          "plot_bgcolor": "#E5ECF6",
          "polar": {
           "angularaxis": {
            "gridcolor": "white",
            "linecolor": "white",
            "ticks": ""
           },
           "bgcolor": "#E5ECF6",
           "radialaxis": {
            "gridcolor": "white",
            "linecolor": "white",
            "ticks": ""
           }
          },
          "scene": {
           "xaxis": {
            "backgroundcolor": "#E5ECF6",
            "gridcolor": "white",
            "gridwidth": 2,
            "linecolor": "white",
            "showbackground": true,
            "ticks": "",
            "zerolinecolor": "white"
           },
           "yaxis": {
            "backgroundcolor": "#E5ECF6",
            "gridcolor": "white",
            "gridwidth": 2,
            "linecolor": "white",
            "showbackground": true,
            "ticks": "",
            "zerolinecolor": "white"
           },
           "zaxis": {
            "backgroundcolor": "#E5ECF6",
            "gridcolor": "white",
            "gridwidth": 2,
            "linecolor": "white",
            "showbackground": true,
            "ticks": "",
            "zerolinecolor": "white"
           }
          },
          "shapedefaults": {
           "line": {
            "color": "#2a3f5f"
           }
          },
          "ternary": {
           "aaxis": {
            "gridcolor": "white",
            "linecolor": "white",
            "ticks": ""
           },
           "baxis": {
            "gridcolor": "white",
            "linecolor": "white",
            "ticks": ""
           },
           "bgcolor": "#E5ECF6",
           "caxis": {
            "gridcolor": "white",
            "linecolor": "white",
            "ticks": ""
           }
          },
          "title": {
           "x": 0.05
          },
          "xaxis": {
           "automargin": true,
           "gridcolor": "white",
           "linecolor": "white",
           "ticks": "",
           "title": {
            "standoff": 15
           },
           "zerolinecolor": "white",
           "zerolinewidth": 2
          },
          "yaxis": {
           "automargin": true,
           "gridcolor": "white",
           "linecolor": "white",
           "ticks": "",
           "title": {
            "standoff": 15
           },
           "zerolinecolor": "white",
           "zerolinewidth": 2
          }
         }
        },
        "title": {
         "text": "Lead Volume by Country"
        }
       }
      }
     },
     "metadata": {},
     "output_type": "display_data"
    },
    {
     "data": {
      "image/png": "[encoded data removed]",
      "text/plain": [
       "<Figure size 1200x600 with 1 Axes>"
      ]
     },
     "metadata": {},
     "output_type": "display_data"
    }
   ],
   "source": [
    "# 1. **Leads and Conversions by Region** - Heatmap (Leads & Conversions)\n",
    "\n",
    "# Pivot the data to create a table of leads and conversions by region and country\n",
    "leads_conversions_by_region = data_cleaned.pivot_table(\n",
    "    index='Country Region', columns='Country', values=['Signup Timestamp Date', 'Conversion to Paid Timestamp Date'], \n",
    "    aggfunc='count', fill_value=0\n",
    ")\n",
    "import plotly.express as px\n",
    "\n",
    "# Aggregate leads by country\n",
    "country_lead_volume = data_cleaned.groupby('Country')['Signup Timestamp Date'].count().reset_index()\n",
    "country_lead_volume.columns = ['Country', 'Lead Volume']\n",
    "\n",
    "# Plot Choropleth Map\n",
    "fig = px.choropleth(\n",
    "    country_lead_volume, locations=\"Country\", locationmode=\"country names\",\n",
    "    color=\"Lead Volume\", hover_name=\"Country\", color_continuous_scale=\"viridis\"\n",
    ")\n",
    "fig.update_layout(title=\"Lead Volume by Country\")\n",
    "fig.show()\n",
    "\n",
    "\n",
    "# 2. **Regional Conversion Rates** - Region vs. Conversion Rate\n",
    "\n",
    "# Calculate conversion rate for each region\n",
    "region_conversion_rate = data_cleaned.groupby('Country Region').apply(\n",
    "    lambda x: x['Conversion to Paid Timestamp Date'].notna().sum() / x['Signup Timestamp Date'].notna().sum()\n",
    ").reset_index(name='Conversion Rate')\n",
    "\n",
    "# Plotting Region vs. Conversion Rate\n",
    "plt.figure(figsize=(12, 6))\n",
    "sns.barplot(x='Conversion Rate', y='Country Region', data=region_conversion_rate, palette='magma')  # Using 'magma' for vibrant color\n",
    "plt.title(\"Regional Conversion Rates\")\n",
    "plt.xlabel(\"Conversion Rate\")\n",
    "plt.ylabel(\"Country Region\")\n",
    "plt.show()\n"
   ]
  },
  {
   "cell_type": "markdown",
   "metadata": {},
   "source": []
  }
 ],
 "metadata": {
  "kernelspec": {
   "display_name": "Python 3",
   "language": "python",
   "name": "python3"
  },
  "language_info": {
   "codemirror_mode": {
    "name": "ipython",
    "version": 3
   },
   "file_extension": ".py",
   "mimetype": "text/x-python",
   "name": "python",
   "nbconvert_exporter": "python",
   "pygments_lexer": "ipython3",
   "version": "3.12.6"
  }
 },
 "nbformat": 4,
 "nbformat_minor": 2
}
