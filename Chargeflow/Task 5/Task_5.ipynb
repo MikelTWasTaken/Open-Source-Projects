{
 "cells": [
  {
   "cell_type": "markdown",
   "id": "e8c2a50f",
   "metadata": {},
   "source": [
    "Pre Task Assumptions (after reading the visa rules)\n",
    "\n",
    "Providing refunds early (before a dispute is closed, but still counted as won) helps identify fraud. ALso winning (for the customer - or a loss for us) likely involves showing stronger evidence that the transaction was legitimate.\n",
    "\n",
    "Repeated usage of the same payment or contact info makes a transaction look more legit.\n",
    "\n",
    "Security checks like 3DS might help avoid fraud claims.\n",
    "\n",
    "Disputes are decided based on how convincing the evidence is.\n",
    "\n",
    "The AI might not always use this info consistently."
   ]
  },
  {
   "cell_type": "code",
   "execution_count": 2,
   "id": "8d39a586",
   "metadata": {},
   "outputs": [
    {
     "name": "stdout",
     "output_type": "stream",
     "text": [
      "Total Disputes: 38\n",
      "Won Disputes: 24\n",
      "Lost Disputes: 14\n",
      "3DS Auth Rate (Won): 0.08\n",
      "3DS Auth Rate (Lost): 0.07\n",
      "Refund Present Rate (Won): 0.75\n",
      "Refund Present Rate (Lost): 0.43\n",
      "Avg Prior Tx - Same Email (Won): 5.25\n",
      "Avg Prior Tx - Same Email (Lost): 6.07\n",
      "Avg Prior Tx - Same Device (Won): 4.58\n",
      "Avg Prior Tx - Same Device (Lost): 5.43\n"
     ]
    }
   ],
   "source": [
    "import pandas as pd\n",
    "\n",
    "# Step 1: Load your dataset\n",
    "df = pd.read_csv(\"/Users/teitelbaumsair/Desktop/Open-Source-Projects/Chargeflow/Task 5/AI_AGENTS_JULY_2025.csv\")\n",
    "\n",
    "visa_10_4_df = df[df['dispute_reason_code'] == 10.4]\n",
    "\n",
    "won_disputes = visa_10_4_df[visa_10_4_df['dispute_status'] == 'won']\n",
    "lost_disputes = visa_10_4_df[visa_10_4_df['dispute_status'] != 'won']\n",
    "\n",
    "results = {\n",
    "    'Total Disputes': len(visa_10_4_df),\n",
    "    'Won Disputes': len(won_disputes),\n",
    "    'Lost Disputes': len(lost_disputes),\n",
    "    '3DS Auth Rate (Won)': won_disputes['was_3ds_successfully_authenticated'].mean(),\n",
    "    '3DS Auth Rate (Lost)': lost_disputes['was_3ds_successfully_authenticated'].mean(),\n",
    "    'Refund Present Rate (Won)': won_disputes['refund_created_at'].notnull().mean(),\n",
    "    'Refund Present Rate (Lost)': lost_disputes['refund_created_at'].notnull().mean(),\n",
    "    'Avg Prior Tx - Same Email (Won)': won_disputes['prior_undisputed_transactions_with_same_email___timeframe_over_120_days_ago_until_365_days_ago'].mean(),\n",
    "    'Avg Prior Tx - Same Email (Lost)': lost_disputes['prior_undisputed_transactions_with_same_email___timeframe_over_120_days_ago_until_365_days_ago'].mean(),\n",
    "    'Avg Prior Tx - Same Device (Won)': won_disputes['prior_undisputed_transactions_with_same_device___timeframe_over_120_days_ago_until_365_days_ago'].mean(),\n",
    "    'Avg Prior Tx - Same Device (Lost)': lost_disputes['prior_undisputed_transactions_with_same_device___timeframe_over_120_days_ago_until_365_days_ago'].mean(),\n",
    "}\n",
    "\n",
    "for key, value in results.items():\n",
    "    print(f\"{key}: {value:.2f}\" if isinstance(value, float) else f\"{key}: {value}\")"
   ]
  },
  {
   "cell_type": "markdown",
   "id": "ca309a9f",
   "metadata": {},
   "source": [
    "Assumptions:\n",
    "\n",
    "75% of won cases were refunded, so you already gave the customer their money back, that should be strong proof the dispute isn’t valid because it was refunded before a dispute was handled according to the rules. The AI should highlight that.\n",
    "\n",
    "\n",
    "Out of 38 Visa 10.4 disputes:\n",
    "24 were won\n",
    "14 were lost\n",
    "\n",
    "\n",
    "The security authentication rates are low:\n",
    "8.3% of won disputes had successful authentication showing that authentication is rarely used in transactions that get disputed.\n",
    "7.1% of lost disputes had successful authentication.\n",
    "\n",
    "\n",
    "Maybe the AI Agent isn't correctly flagging the dispute authentications or authentication is being under used?\n",
    "Maybe this is causing the issue?\n"
   ]
  },
  {
   "cell_type": "markdown",
   "id": "e2cffb1b",
   "metadata": {},
   "source": [
    "Bullets for answers:\n",
    "1. For card-not-present or recurring payments, you need to show the customer agreed—like a signed form or 3DS log (pages 674–682), but in rows 30–33, there’s no proof, and the AI doesn’t ask for it, which makes the case weak.\n",
    "\n",
    "2. Visa gives 30 days to respond to a 10.4 chargeback (page 696), but in rows 34–36, there’s no sign the AI tracks this deadline. Some responses might be late or missed.\n",
    "\n",
    "3. Merchants have to mark online purchases clearly (page 674), but in rows 23–26, the AI doesn’t notice this and treats them like regular fraud cases, which means it misses using the right Visa rules.MAybe the AI thought that selecting \"agree to terms and conditions\" was enough? "
   ]
  }
 ],
 "metadata": {
  "kernelspec": {
   "display_name": "Python 3",
   "language": "python",
   "name": "python3"
  },
  "language_info": {
   "codemirror_mode": {
    "name": "ipython",
    "version": 3
   },
   "file_extension": ".py",
   "mimetype": "text/x-python",
   "name": "python",
   "nbconvert_exporter": "python",
   "pygments_lexer": "ipython3",
   "version": "3.12.6"
  }
 },
 "nbformat": 4,
 "nbformat_minor": 5
}
