{
 "cells": [
  {
   "cell_type": "code",
   "execution_count": null,
   "metadata": {},
   "outputs": [],
   "source": [
    "import numpy as np \n",
    "import pandas as pd\n",
    "from sqlalchemy import create_engine\n",
    "\n",
    "# File path and database configuration\n",
    "csv_file_path = '/Users/teitelbaumsair/Desktop/Open-Source-Projects/Analyzing Kickstarter Projects/ks-projects-201801.csv'\n",
    "db_config = {\n",
    "    \"username\": \"postgres\",\n",
    "    \"password\": \"1234\",\n",
    "    \"host\": \"localhost\",  \n",
    "    \"port\": 5433,        \n",
    "    \"database\": \"Kickstarter_Projects\"\n",
    "}\n",
    "\n",
    "# Create engine\n",
    "engine = create_engine(\n",
    "    f\"postgresql+psycopg2://{db_config['username']}:{db_config['password']}@\"\n",
    "    f\"{db_config['host']}:{db_config['port']}/{db_config['database']}\"\n",
    ")\n",
    "\n",
    "# Table name\n",
    "table_name = 'ks_data'\n",
    "\n",
    "try:\n",
    "    # Read CSV file into DataFrame\n",
    "    df = pd.read_csv(csv_file_path)\n",
    "    # Load DataFrame into PostgreSQL table\n",
    "    df.to_sql(table_name, con=engine, index=False, if_exists='replace')  \n",
    "    print(f\"Successfully loaded {table_name}\")\n",
    "except Exception as e:\n",
    "    print(f\"Error processing {csv_file_path} for table {table_name}: {e}\")\n",
    "\n",
    "print(f\"Data successfully inserted into the table '{table_name}' in PostgreSQL.\")"
   ]
  }
 ],
 "metadata": {
  "language_info": {
   "name": "python"
  }
 },
 "nbformat": 4,
 "nbformat_minor": 2
}
