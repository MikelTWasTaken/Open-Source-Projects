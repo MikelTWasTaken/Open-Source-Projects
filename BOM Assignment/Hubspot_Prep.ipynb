{
 "cells": [
  {
   "cell_type": "code",
   "execution_count": 9,
   "metadata": {},
   "outputs": [
    {
     "name": "stdout",
     "output_type": "stream",
     "text": [
      "File saved successfully as hubspot_report_data.csv with 1000 rows.\n"
     ]
    }
   ],
   "source": [
    "import pandas as pd\n",
    "\n",
    "def rename_columns():\n",
    "    input_file = \"/Users/teitelbaumsair/Desktop/Open-Source-Projects/Connecteam BOM Assignment/cleaned_sales_data.csv\"\n",
    "    \n",
    "    # Define the mapping from original to HubSpot property names\n",
    "    column_mapping = {\n",
    "        \"Company number\": \"Company ID\",\n",
    "        \"Job Title\": \"Job Title\",\n",
    "        \"Industry\": \"Industry\",\n",
    "        \"Main Company Interest\": \"Lifecycle Stage\",\n",
    "        \"Country\": \"Country\",\n",
    "        \"Country Region\": \"Region\",\n",
    "        \"Channel Group (Inbound)\": \"Lead Source\",\n",
    "        \"Device Category\": \"Device Type\",\n",
    "        \"Num of Employees\": \"Number of Employees\",\n",
    "        \"Signup Timestamp Date\": \"Create Date\",\n",
    "        \"Conversion to Mql Timestamp Date\": \"Became a MQL Date\",\n",
    "        \"First Demo Date Date\": \"First Demo Date\",\n",
    "        \"Conversion to Paid Timestamp Date\": \"Became a Customer Date\",\n",
    "        \"Arr At Conversion\": \"Annual Revenue\"\n",
    "    }\n",
    "    \n",
    "    # Read the CSV file\n",
    "    df = pd.read_csv(input_file)\n",
    "    \n",
    "    # Rename the columns\n",
    "    df.rename(columns=column_mapping, inplace=True)\n",
    "    \n",
    "    # Keep only the first 1000 rows\n",
    "    df = df.head(1000)\n",
    "    \n",
    "    return df\n",
    "\n",
    "df_modified = rename_columns()\n",
    "\n",
    "\n",
    "# Save the modified DataFrame to a new CSV file\n",
    "output_file = \"hubspot_report_data.csv\"\n",
    "df_modified.to_csv(output_file, index=False)\n",
    "print(f\"File saved successfully as {output_file} with {len(df_modified)} rows.\")\n"
   ]
  }
 ],
 "metadata": {
  "kernelspec": {
   "display_name": "Python 3",
   "language": "python",
   "name": "python3"
  },
  "language_info": {
   "codemirror_mode": {
    "name": "ipython",
    "version": 3
   },
   "file_extension": ".py",
   "mimetype": "text/x-python",
   "name": "python",
   "nbconvert_exporter": "python",
   "pygments_lexer": "ipython3",
   "version": "3.12.6"
  }
 },
 "nbformat": 4,
 "nbformat_minor": 2
}
